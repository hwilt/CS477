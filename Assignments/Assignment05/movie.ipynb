{
 "cells": [
  {
   "cell_type": "code",
   "execution_count": 6,
   "id": "6b8546f3",
   "metadata": {},
   "outputs": [
    {
     "name": "stdout",
     "output_type": "stream",
     "text": [
      "The autoreload extension is already loaded. To reload it, use:\n",
      "  %reload_ext autoreload\n"
     ]
    }
   ],
   "source": [
    "%load_ext autoreload\n",
    "%autoreload 2\n",
    "from movie import *"
   ]
  },
  {
   "cell_type": "code",
   "execution_count": 7,
   "id": "d12bc465",
   "metadata": {},
   "outputs": [
    {
     "name": "stdout",
     "output_type": "stream",
     "text": [
      "CS\n",
      "477\n",
      "rocks\n",
      "{'CS': 1, '477': 1, 'rocks': 1}\n"
     ]
    }
   ],
   "source": [
    "model = MovieModel()\n",
    "model.add_string(\"CS 477 rocks\")\n",
    "print(model.get_wordDict())"
   ]
  },
  {
   "cell_type": "code",
   "execution_count": null,
   "id": "bea518dd",
   "metadata": {},
   "outputs": [],
   "source": [
    "model = MovieModel()"
   ]
  },
  {
   "cell_type": "code",
   "execution_count": null,
   "id": "3aaa2b95",
   "metadata": {},
   "outputs": [],
   "source": []
  },
  {
   "cell_type": "code",
   "execution_count": null,
   "id": "7f295260",
   "metadata": {},
   "outputs": [],
   "source": []
  },
  {
   "cell_type": "code",
   "execution_count": null,
   "id": "9b0ab5a5",
   "metadata": {},
   "outputs": [],
   "source": []
  },
  {
   "cell_type": "code",
   "execution_count": null,
   "id": "bc5d1fbd",
   "metadata": {},
   "outputs": [],
   "source": []
  }
 ],
 "metadata": {
  "kernelspec": {
   "display_name": "Python 3 (ipykernel)",
   "language": "python",
   "name": "python3"
  },
  "language_info": {
   "codemirror_mode": {
    "name": "ipython",
    "version": 3
   },
   "file_extension": ".py",
   "mimetype": "text/x-python",
   "name": "python",
   "nbconvert_exporter": "python",
   "pygments_lexer": "ipython3",
   "version": "3.10.4"
  }
 },
 "nbformat": 4,
 "nbformat_minor": 5
}
