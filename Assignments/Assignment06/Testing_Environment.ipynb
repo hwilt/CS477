{
 "cells": [
  {
   "cell_type": "code",
   "execution_count": 1,
   "id": "4837d425",
   "metadata": {},
   "outputs": [],
   "source": [
    "%load_ext autoreload\n",
    "%autoreload 2\n",
    "import numpy as np\n",
    "import matplotlib.pyplot as plt\n",
    "import matplotlib.animation as animation\n",
    "import IPython.display as ipd\n",
    "from mlp import *\n",
    "from layers import *\n",
    "from losses import *"
   ]
  },
  {
   "cell_type": "code",
   "execution_count": 2,
   "id": "8e3b117a",
   "metadata": {},
   "outputs": [
    {
     "ename": "NameError",
     "evalue": "name 'DenseLayer' is not defined",
     "output_type": "error",
     "traceback": [
      "\u001b[0;31m---------------------------------------------------------------------------\u001b[0m",
      "\u001b[0;31mNameError\u001b[0m                                 Traceback (most recent call last)",
      "Cell \u001b[0;32mIn[2], line 2\u001b[0m\n\u001b[1;32m      1\u001b[0m model \u001b[38;5;241m=\u001b[39m MLP(\u001b[38;5;241m10\u001b[39m, logistic_loss_deriv)\n\u001b[0;32m----> 2\u001b[0m \u001b[43mmodel\u001b[49m\u001b[38;5;241;43m.\u001b[39;49m\u001b[43madd_layer\u001b[49m\u001b[43m(\u001b[49m\u001b[38;5;241;43m20\u001b[39;49m\u001b[43m,\u001b[49m\u001b[43m \u001b[49m\u001b[43mleaky_relu\u001b[49m\u001b[43m,\u001b[49m\u001b[43m \u001b[49m\u001b[43mleaky_relu_deriv\u001b[49m\u001b[43m)\u001b[49m\n\u001b[1;32m      3\u001b[0m model\u001b[38;5;241m.\u001b[39madd_layer(\u001b[38;5;241m5\u001b[39m, leaky_relu, leaky_relu_deriv, \u001b[38;5;124m\"\u001b[39m\u001b[38;5;124mspecial_start\u001b[39m\u001b[38;5;124m\"\u001b[39m)\n\u001b[1;32m      4\u001b[0m model\u001b[38;5;241m.\u001b[39madd_layer(\u001b[38;5;241m8\u001b[39m, leaky_relu, leaky_relu_deriv)\n",
      "File \u001b[0;32m~/COLLEGE/2024_Senior_Year/Fall2023/CS477/CS477/Assignments/Assignment06/mlp.py:43\u001b[0m, in \u001b[0;36mMLP.add_layer\u001b[0;34m(self, m, f, fderiv, name)\u001b[0m\n\u001b[1;32m     41\u001b[0m \u001b[38;5;28;01mif\u001b[39;00m name \u001b[38;5;129;01mis\u001b[39;00m \u001b[38;5;28;01mNone\u001b[39;00m:\n\u001b[1;32m     42\u001b[0m     name \u001b[38;5;241m=\u001b[39m \u001b[38;5;28mstr\u001b[39m(\u001b[38;5;28mlen\u001b[39m(\u001b[38;5;28mself\u001b[39m\u001b[38;5;241m.\u001b[39mlayers))\n\u001b[0;32m---> 43\u001b[0m \u001b[38;5;28mself\u001b[39m\u001b[38;5;241m.\u001b[39mlayers\u001b[38;5;241m.\u001b[39mappend(\u001b[43mDenseLayer\u001b[49m(\u001b[38;5;28mself\u001b[39m\u001b[38;5;241m.\u001b[39mdim, m, f, fderiv))\n\u001b[1;32m     44\u001b[0m \u001b[38;5;28mself\u001b[39m\u001b[38;5;241m.\u001b[39mlayer_names\u001b[38;5;241m.\u001b[39mappend(name)\n",
      "\u001b[0;31mNameError\u001b[0m: name 'DenseLayer' is not defined"
     ]
    }
   ],
   "source": [
    "model = MLP(10, logistic_loss_deriv)\n",
    "model.add_layer(20, leaky_relu, leaky_relu_deriv)\n",
    "model.add_layer(5, leaky_relu, leaky_relu_deriv, \"special_start\")\n",
    "model.add_layer(8, leaky_relu, leaky_relu_deriv)\n",
    "model.add_layer(7, leaky_relu, leaky_relu_deriv, \"special_end\")\n",
    "model.add_layer(1, leaky_relu, leaky_relu_deriv)\n",
    "x = np.random.randn(10)\n",
    "y = model.forward(x)\n",
    "print(y.shape)\n",
    "# Show how to start/end in the middle of the network\n",
    "x = np.random.randn(20)\n",
    "y = model.forward(x, start=\"special_start\", end=\"special_end\")\n",
    "print(y.shape)"
   ]
  }
 ],
 "metadata": {
  "kernelspec": {
   "display_name": "Python 3 (ipykernel)",
   "language": "python",
   "name": "python3"
  },
  "language_info": {
   "codemirror_mode": {
    "name": "ipython",
    "version": 3
   },
   "file_extension": ".py",
   "mimetype": "text/x-python",
   "name": "python",
   "nbconvert_exporter": "python",
   "pygments_lexer": "ipython3",
   "version": "3.10.4"
  }
 },
 "nbformat": 4,
 "nbformat_minor": 5
}
