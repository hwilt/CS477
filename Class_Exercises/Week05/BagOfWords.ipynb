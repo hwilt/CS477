{
 "cells": [
  {
   "cell_type": "code",
   "execution_count": 7,
   "id": "02f10520",
   "metadata": {},
   "outputs": [],
   "source": [
    "import numpy as np"
   ]
  },
  {
   "cell_type": "code",
   "execution_count": 17,
   "id": "a445ada7",
   "metadata": {},
   "outputs": [],
   "source": [
    "counts = {}\n",
    "\n",
    "for speaker in [\"clinton\", \"trump\"]:\n",
    "    counts[speaker] = {}\n",
    "    counts[speaker][\"\"] = 0\n",
    "    for debate in [1, 2]:\n",
    "        fin = open(\"text/2016Debates/{}{}.txt\".format(speaker, debate))\n",
    "        text = fin.read()\n",
    "        fin.close()\n",
    "        for word in text.split():\n",
    "            word = word.rstrip() # get rid of line breaks, etc\n",
    "            if not word in counts[speaker]:\n",
    "                counts[speaker][word] = 0\n",
    "            counts[speaker][word] += 1\n",
    "            counts[speaker][\"\"] += 1\n",
    "            \n",
    "            "
   ]
  },
  {
   "cell_type": "code",
   "execution_count": 12,
   "id": "2ce076a0",
   "metadata": {},
   "outputs": [
    {
     "name": "stdout",
     "output_type": "stream",
     "text": [
      "12330\n",
      "15143\n"
     ]
    }
   ],
   "source": [
    "print(counts['clinton'][\"\"])\n",
    "print(counts['trump'][\"\"])"
   ]
  },
  {
   "cell_type": "code",
   "execution_count": 23,
   "id": "06e0f30e",
   "metadata": {},
   "outputs": [
    {
     "name": "stdout",
     "output_type": "stream",
     "text": [
      "got it right!\n",
      "got it right!\n",
      "got it right!\n",
      "got it right!\n",
      "got it right!\n",
      "got it right!\n",
      "got it right!\n",
      "got it right!\n",
      "got it right!\n",
      "got it right!\n",
      "got it right!\n",
      "got it right!\n",
      "got it right!\n",
      "got it right!\n",
      "got it right!\n",
      "got it right!\n",
      "got it right!\n",
      "got it right!\n",
      "got it right!\n",
      "got it right!\n",
      "got it right!\n",
      "got it right!\n",
      "got it right!\n",
      "got it right!\n",
      "got it right!\n",
      "got it right!\n",
      "got it right!\n",
      "got it right!\n",
      "got it right!\n",
      "got it right!\n",
      "got it right!\n",
      "got it right!\n",
      "got it right!\n",
      "got it right!\n",
      "got it right!\n",
      "got it right!\n",
      "got it right!\n",
      "got it right!\n",
      "got it right!\n",
      "got it right!\n"
     ]
    }
   ],
   "source": [
    "import glob\n",
    "for f in glob.glob(\"text/2016Debates/clinton3*.txt\"):\n",
    "    fin = open(f)\n",
    "    test = fin.read()\n",
    "    fin.close()\n",
    "    ## TODO: Do bag of words on test and compute probabilities under different modelsb\n",
    "    denom = counts['clinton'][\"\"]\n",
    "    p = np.log(counts[\"clinton\"][\"\"] / (counts[\"clinton\"][\"\"] + counts[\"trump\"][\"\"]))\n",
    "    for word in test.lower().split():\n",
    "        word = word.rstrip()\n",
    "        if word in counts[\"clinton\"]:\n",
    "            p_word = counts[\"clinton\"][word]/ denom\n",
    "            \n",
    "        else:\n",
    "            p_word = 1/denom\n",
    "        p += np.log(p_word)\n",
    "    p_clinton = p\n",
    "    \n",
    "    denom = counts['trump'][\"\"]\n",
    "    p = np.log(counts[\"trump\"][\"\"] / (counts[\"clinton\"][\"\"] + counts[\"trump\"][\"\"]))\n",
    "    for word in test.lower().split():\n",
    "        word = word.rstrip()\n",
    "        if word in counts[\"trump\"]:\n",
    "            p_word = counts[\"trump\"][word]/ denom\n",
    "        else:\n",
    "            p_word = 1/denom\n",
    "        p += np.log(p_word)\n",
    "    p_trump = p\n",
    "    \n",
    "    \n",
    "    if p_clinton > p_trump:\n",
    "        print(\"got it right!\")\n",
    "    else:\n",
    "        print(\"got it wrong :(\")"
   ]
  },
  {
   "cell_type": "code",
   "execution_count": 13,
   "id": "6642ff9e",
   "metadata": {
    "scrolled": true
   },
   "outputs": [],
   "source": [
    "s = \"Hello CS 477 this is Dr. Tralie speaking\\nWe're doing some cool stuff!\"\n",
    "#s.split()"
   ]
  }
 ],
 "metadata": {
  "kernelspec": {
   "display_name": "Python 3 (ipykernel)",
   "language": "python",
   "name": "python3"
  },
  "language_info": {
   "codemirror_mode": {
    "name": "ipython",
    "version": 3
   },
   "file_extension": ".py",
   "mimetype": "text/x-python",
   "name": "python",
   "nbconvert_exporter": "python",
   "pygments_lexer": "ipython3",
   "version": "3.10.4"
  }
 },
 "nbformat": 4,
 "nbformat_minor": 5
}
