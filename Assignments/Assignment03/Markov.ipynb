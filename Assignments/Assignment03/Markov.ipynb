{
 "cells": [
  {
   "cell_type": "code",
   "execution_count": 1,
   "id": "9e585a3f",
   "metadata": {},
   "outputs": [],
   "source": [
    "%load_ext autoreload\n",
    "%autoreload 2\n",
    "from markov import *"
   ]
  },
  {
   "cell_type": "markdown",
   "id": "b513f74b",
   "metadata": {},
   "source": [
    "# Making of the add_string() method"
   ]
  },
  {
   "cell_type": "code",
   "execution_count": 21,
   "id": "297b2202",
   "metadata": {},
   "outputs": [
    {
     "name": "stdout",
     "output_type": "stream",
     "text": [
      "CS 47\n",
      "S 477\n",
      " 477 \n",
      "477 r\n",
      "77 ro\n",
      "7 roc\n",
      " rock\n",
      "rocks\n",
      "ocksC\n",
      "cksCS\n",
      "ksCS \n",
      "sCS 4\n"
     ]
    },
    {
     "data": {
      "text/plain": [
       "12"
      ]
     },
     "execution_count": 21,
     "metadata": {},
     "output_type": "execute_result"
    }
   ],
   "source": [
    "model = MarkovModel(5)\n",
    "model.add_string(\"CS 477 rocks\")\n",
    "model.get_prefixs()\n",
    "model.get_prefix_count()"
   ]
  },
  {
   "cell_type": "markdown",
   "id": "cc03bae4",
   "metadata": {},
   "source": [
    "### Checking actual data"
   ]
  },
  {
   "cell_type": "code",
   "execution_count": 26,
   "id": "fb92c951",
   "metadata": {},
   "outputs": [
    {
     "name": "stdout",
     "output_type": "stream",
     "text": [
      "4032\n",
      "{'s': 4, 'm': 1, 't': 4, 'l': 1, 'j': 1, 'w': 1, 'a': 4, 'b': 1, 'h': 1, 'c': 4, 'k': 1, 'e': 1, 'g': 1}\n"
     ]
    }
   ],
   "source": [
    "model = MarkovModel(5)\n",
    "model.load_file_lines(\"text/spongebobquotes.txt\")\n",
    "print(model.get_prefix_count())\n",
    "print(model.get_prefix(' you '))"
   ]
  },
  {
   "cell_type": "markdown",
   "id": "ebd3cdc4",
   "metadata": {},
   "source": [
    "`{'s': 4, 'm': 1, 't': 4, 'l': 1, 'j': 1, 'w': 1, 'a': 4, 'b': 1, 'h': 1, 'c': 4, 'k': 1, 'e': 1, 'g': 1}`\n",
    "\n",
    "Should have 4032 unique prefixs;\n",
    "\n",
    "`' you '` will have all the characters above in the dict"
   ]
  },
  {
   "cell_type": "markdown",
   "id": "2f10b83a",
   "metadata": {},
   "source": [
    "# Computing Probabilities (10 Pts)"
   ]
  },
  {
   "cell_type": "code",
   "execution_count": null,
   "id": "8fb275e3",
   "metadata": {},
   "outputs": [],
   "source": []
  },
  {
   "cell_type": "code",
   "execution_count": null,
   "id": "c6c3a44d",
   "metadata": {},
   "outputs": [],
   "source": []
  },
  {
   "cell_type": "code",
   "execution_count": null,
   "id": "6d56202d",
   "metadata": {},
   "outputs": [],
   "source": []
  },
  {
   "cell_type": "code",
   "execution_count": null,
   "id": "87c24c0c",
   "metadata": {},
   "outputs": [],
   "source": []
  },
  {
   "cell_type": "code",
   "execution_count": null,
   "id": "079eab41",
   "metadata": {},
   "outputs": [],
   "source": []
  },
  {
   "cell_type": "code",
   "execution_count": null,
   "id": "8ef74814",
   "metadata": {},
   "outputs": [],
   "source": []
  },
  {
   "cell_type": "code",
   "execution_count": null,
   "id": "9fd8efc1",
   "metadata": {},
   "outputs": [],
   "source": []
  }
 ],
 "metadata": {
  "kernelspec": {
   "display_name": "Python 3 (ipykernel)",
   "language": "python",
   "name": "python3"
  },
  "language_info": {
   "codemirror_mode": {
    "name": "ipython",
    "version": 3
   },
   "file_extension": ".py",
   "mimetype": "text/x-python",
   "name": "python",
   "nbconvert_exporter": "python",
   "pygments_lexer": "ipython3",
   "version": "3.10.4"
  }
 },
 "nbformat": 4,
 "nbformat_minor": 5
}
