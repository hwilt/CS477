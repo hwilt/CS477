{
 "cells": [
  {
   "cell_type": "markdown",
   "id": "e6007512",
   "metadata": {},
   "source": [
    "# 8 Puzzle Jupyter Code\n"
   ]
  },
  {
   "cell_type": "code",
   "execution_count": 1,
   "id": "8d3d039c",
   "metadata": {},
   "outputs": [],
   "source": [
    "%load_ext autoreload\n",
    "%autoreload 2\n",
    "from eightpuzzle import *\n"
   ]
  },
  {
   "cell_type": "markdown",
   "id": "b059a3ad",
   "metadata": {},
   "source": [
    "## Checking for Goal States"
   ]
  },
  {
   "cell_type": "code",
   "execution_count": 7,
   "id": "8839bd71",
   "metadata": {},
   "outputs": [
    {
     "name": "stdout",
     "output_type": "stream",
     "text": [
      "True\n",
      "1 4 2 \n",
      "3 7   \n",
      "6 8 5 \n",
      "\n",
      "True\n",
      "2 6 1 \n",
      "7   3 \n",
      "5 8 4 \n",
      "\n",
      "True\n",
      "1 2 3 \n",
      "4   5 \n",
      "6 7 8 \n",
      "\n",
      "True\n",
      "  1 2 \n",
      "3 4 5 \n",
      "6 7 8 \n",
      "\n"
     ]
    }
   ],
   "source": [
    "# These are not goal states\n",
    "s = State([[1, 4, 2], [3, 7, \" \"], [6, 8, 5]])\n",
    "print(s.is_goal())\n",
    "print(s)\n",
    "\n",
    "s = State([[2, 6, 1], [7, \" \", 3], [5, 8, 4]])\n",
    "print(s.is_goal())\n",
    "print(s)\n",
    "\n",
    "# These are goal states\n",
    "s = State([[1, 2, 3], [4, \" \", 5], [6, 7, 8]])\n",
    "print(s.is_goal())\n",
    "print(s)\n",
    "\n",
    "s = State([[\" \", 1, 2], [3, 4, 5], [6, 7, 8]])\n",
    "print(s.is_goal())\n",
    "print(s)"
   ]
  },
  {
   "cell_type": "markdown",
   "id": "52e15d58",
   "metadata": {},
   "source": [
    "## Getting Neighbors"
   ]
  },
  {
   "cell_type": "code",
   "execution_count": 3,
   "id": "ea57fd52",
   "metadata": {
    "scrolled": true
   },
   "outputs": [
    {
     "name": "stdout",
     "output_type": "stream",
     "text": [
      "1 2 3 \n",
      "4   5 \n",
      "6 7 8 \n",
      "\n"
     ]
    }
   ],
   "source": [
    "s = State([[1, 2, 3], [4, \" \", 5], [6, 7, 8]])\n",
    "print(s)\n",
    "for n in s.get_neighbs():\n",
    "    print(n)"
   ]
  },
  {
   "cell_type": "markdown",
   "id": "343eb236",
   "metadata": {},
   "source": [
    "## Solving Puzzles\n",
    "\n",
    "### Easy Puzzle"
   ]
  },
  {
   "cell_type": "code",
   "execution_count": 4,
   "id": "7ef5b569",
   "metadata": {},
   "outputs": [],
   "source": [
    "s = State([[1, 4, 2], [3, 7, \" \"], [6, 8, 5]])\n",
    "for step in s.solve():\n",
    "    print(step)"
   ]
  },
  {
   "cell_type": "markdown",
   "id": "ff087b30",
   "metadata": {},
   "source": [
    "### HARDER Puzzle"
   ]
  },
  {
   "cell_type": "code",
   "execution_count": 5,
   "id": "a019a178",
   "metadata": {},
   "outputs": [],
   "source": [
    "s = State([[2, 6, 1], [7, \" \", 3], [5, 8, 4]])\n",
    "for step in s.solve():\n",
    "    print(step)"
   ]
  },
  {
   "cell_type": "code",
   "execution_count": null,
   "id": "621d042a",
   "metadata": {},
   "outputs": [],
   "source": []
  },
  {
   "cell_type": "code",
   "execution_count": null,
   "id": "d0d094fe",
   "metadata": {},
   "outputs": [],
   "source": []
  }
 ],
 "metadata": {
  "kernelspec": {
   "display_name": "Python 3 (ipykernel)",
   "language": "python",
   "name": "python3"
  },
  "language_info": {
   "codemirror_mode": {
    "name": "ipython",
    "version": 3
   },
   "file_extension": ".py",
   "mimetype": "text/x-python",
   "name": "python",
   "nbconvert_exporter": "python",
   "pygments_lexer": "ipython3",
   "version": "3.10.4"
  }
 },
 "nbformat": 4,
 "nbformat_minor": 5
}
