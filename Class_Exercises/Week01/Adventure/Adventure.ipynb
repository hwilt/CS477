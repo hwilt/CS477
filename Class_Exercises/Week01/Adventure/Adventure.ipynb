{
 "cells": [
  {
   "cell_type": "markdown",
   "id": "9abd8507",
   "metadata": {},
   "source": [
    "# Welcome to Adventure\n",
    "\n",
    "## Please run this code block first"
   ]
  },
  {
   "cell_type": "code",
   "execution_count": null,
   "id": "785a3141",
   "metadata": {},
   "outputs": [],
   "source": [
    "locations = {}\n",
    "\n",
    "\n",
    "forest_description = \"You wake up in an old growth forest, you find the faint glow of the sun to be warming. There's not much around but you notice a well worn path.\"\n",
    "path1_description = \"As you walk down the path, other than a lot of trees, flowers, and weeds, you spot a small cottage along the path.\"\n",
    "cottage_description = \"The door is unlocked and it's a normal little cottage and you see the oven on. You notice a staircase that goes up. Also, you see a picture frame with a cute little family.\"\n",
    "upstairs_description = \"As you round the corner on the stair case, the father jumps out and says \\\"Who are you, how did you get in?\\\". He charges at you, and with your quick thinking you see a window.\"\n",
    "jump_description = \"You jump through the window, breaking it in the process and all you hear from the cottage is \\\"You better get back here!\\\"\"\n",
    "fork_description = \"You continue to walk down the path, you notice a slight incline to it. Soon you get a fork in the path.\"\n",
    "left_description = \"As you walk down the path, the trees grow younger and you see more sunlight. You near the city where you live, you must have fell asleep in the woods again.\"\n",
    "right_description = \"The path gets darker and you turn a corner and see a massive castle, one where you don't think you should go inside.\"\n",
    "castle_descritption = \"The castle is locked, you have to turn around.\"\n",
    "\n",
    "\n",
    "locations[\"hidden\"] = [\"You found the hidden easter egg, you win nothing. You broke the game :(\"]\n",
    "locations[\"wake up\"] = [forest_description, \"Path\"]\n",
    "locations[\"path\"] = [path1_description, \"Cottage\", \"Fork\", \"Wake up\"]\n",
    "locations[\"cottage\"] = [cottage_description, \"Path\", \"Upstairs\"]\n",
    "locations[\"upstairs\"] = [upstairs_description, \"Jump\"]\n",
    "locations[\"jump\"] = [jump_description, \"Path\"]\n",
    "locations[\"fork\"] = [fork_description, \"Left\", \"Right\", \"Path\"]\n",
    "locations[\"left\"] = [left_description]\n",
    "locations[\"right\"] = [right_description, \"Castle\", \"Fork\"]\n",
    "locations[\"castle\"] = [castle_descritption, \"Right\"]"
   ]
  },
  {
   "cell_type": "markdown",
   "id": "317360c4",
   "metadata": {},
   "source": [
    "# Game below\n",
    "\n",
    "![Dark Forest](darkforest.webp)"
   ]
  },
  {
   "cell_type": "code",
   "execution_count": null,
   "id": "57857830",
   "metadata": {},
   "outputs": [],
   "source": [
    "story_complete = False\n",
    "easter_egg = False\n",
    "location = \"wake up\"\n",
    "iteration = 0\n",
    "\n",
    "while not story_complete:\n",
    "    iteration += 1\n",
    "    current_location = locations[location]\n",
    "    print(\"{}: {}\".format(iteration, current_location[0]))\n",
    "    if len(locations[location]) != 1:\n",
    "        print(\"Where to next: {}\".format(current_location[1::]))\n",
    "        user_input = input()\n",
    "        user_input = user_input.lower().strip()\n",
    "        while user_input not in locations.keys():\n",
    "            print(\"Not a valid location, Please select one: {}\".format(current_location[1::]))\n",
    "            user_input = input()\n",
    "        location = user_input\n",
    "        print(\"\")\n",
    "    else:\n",
    "        if location == \"hidden\":\n",
    "            easter_egg = True\n",
    "        story_complete = True\n",
    "    \n",
    "    \n",
    "if easter_egg:\n",
    "    print(\"I can not believe this.\")\n",
    "else:\n",
    "    print(\"\\nThe End.\")\n",
    "    print(\"Adventure made by: Henry\")\n",
    "    print(\"Congrats, It took you {} iterations to go through the adventure.\".format(iteration))\n",
    "    if iteration == 4:\n",
    "        print(\"You complete it in record time! But you didn't get to see much of your adventure. :(\")\n",
    "    else:\n",
    "        print(\"Minimum to complete story is 4.\")"
   ]
  },
  {
   "cell_type": "code",
   "execution_count": null,
   "id": "bf9a3cce",
   "metadata": {},
   "outputs": [],
   "source": []
  }
 ],
 "metadata": {
  "kernelspec": {
   "display_name": "Python 3 (ipykernel)",
   "language": "python",
   "name": "python3"
  },
  "language_info": {
   "codemirror_mode": {
    "name": "ipython",
    "version": 3
   },
   "file_extension": ".py",
   "mimetype": "text/x-python",
   "name": "python",
   "nbconvert_exporter": "python",
   "pygments_lexer": "ipython3",
   "version": "3.10.4"
  }
 },
 "nbformat": 4,
 "nbformat_minor": 5
}
