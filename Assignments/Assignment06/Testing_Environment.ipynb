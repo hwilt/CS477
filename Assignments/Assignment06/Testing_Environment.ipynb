{
 "cells": [
  {
   "cell_type": "code",
   "execution_count": 1,
   "id": "4837d425",
   "metadata": {},
   "outputs": [],
   "source": [
    "%load_ext autoreload\n",
    "%autoreload 2\n",
    "import numpy as np\n",
    "import matplotlib.pyplot as plt\n",
    "import matplotlib.animation as animation\n",
    "import IPython.display as ipd\n",
    "from mlp import *\n",
    "from layers import *\n",
    "from losses import *"
   ]
  },
  {
   "cell_type": "code",
   "execution_count": 2,
   "id": "2d48bc43",
   "metadata": {},
   "outputs": [
    {
     "data": {
      "text/plain": [
       "(10,)"
      ]
     },
     "execution_count": 2,
     "metadata": {},
     "output_type": "execute_result"
    }
   ],
   "source": [
    "x = np.random.randn(10)\n",
    "x.shape\n",
    "y = x\n",
    "y.shape"
   ]
  },
  {
   "cell_type": "code",
   "execution_count": 3,
   "id": "db92c89f",
   "metadata": {},
   "outputs": [
    {
     "name": "stdout",
     "output_type": "stream",
     "text": [
      "[ 1.46480071  1.16054889 -1.33285798  0.98726481  0.27288953 -1.03095113\n",
      " -0.36105679  0.37883612 -2.06259895  0.31064933]\n"
     ]
    }
   ],
   "source": [
    "L = 5\n",
    "h = []\n",
    "x = np.random.randn(10)\n",
    "h = [0]*L\n",
    "h[0] = x\n",
    "\n",
    "print(h[0])"
   ]
  },
  {
   "cell_type": "code",
   "execution_count": 13,
   "id": "8e3b117a",
   "metadata": {
    "scrolled": true
   },
   "outputs": [
    {
     "name": "stdout",
     "output_type": "stream",
     "text": [
      "W: (20, 10)\n",
      "W: (5, 20)\n",
      "W: (8, 5)\n",
      "W: (7, 8)\n",
      "W: (1, 7)\n",
      "(1,)\n",
      "W: (5, 20)\n"
     ]
    },
    {
     "ename": "ValueError",
     "evalue": "operands could not be broadcast together with shapes (5,20) (5,) ",
     "output_type": "error",
     "traceback": [
      "\u001b[0;31m---------------------------------------------------------------------------\u001b[0m",
      "\u001b[0;31mValueError\u001b[0m                                Traceback (most recent call last)",
      "Cell \u001b[0;32mIn[13], line 12\u001b[0m\n\u001b[1;32m     10\u001b[0m \u001b[38;5;66;03m# Show how to start/end in the middle of the network\u001b[39;00m\n\u001b[1;32m     11\u001b[0m x \u001b[38;5;241m=\u001b[39m np\u001b[38;5;241m.\u001b[39mrandom\u001b[38;5;241m.\u001b[39mrandn(\u001b[38;5;241m20\u001b[39m)\n\u001b[0;32m---> 12\u001b[0m y \u001b[38;5;241m=\u001b[39m \u001b[43mmodel\u001b[49m\u001b[38;5;241;43m.\u001b[39;49m\u001b[43mforward\u001b[49m\u001b[43m(\u001b[49m\u001b[43mx\u001b[49m\u001b[43m,\u001b[49m\u001b[43m \u001b[49m\u001b[43mstart\u001b[49m\u001b[38;5;241;43m=\u001b[39;49m\u001b[38;5;124;43m\"\u001b[39;49m\u001b[38;5;124;43mspecial_start\u001b[39;49m\u001b[38;5;124;43m\"\u001b[39;49m\u001b[43m,\u001b[49m\u001b[43m \u001b[49m\u001b[43mend\u001b[49m\u001b[38;5;241;43m=\u001b[39;49m\u001b[38;5;124;43m\"\u001b[39;49m\u001b[38;5;124;43mspecial_end\u001b[39;49m\u001b[38;5;124;43m\"\u001b[39;49m\u001b[43m)\u001b[49m\n\u001b[1;32m     13\u001b[0m \u001b[38;5;28mprint\u001b[39m(y\u001b[38;5;241m.\u001b[39mshape)\n",
      "File \u001b[0;32m~/COLLEGE/2024_Senior_Year/Fall2023/CS477/CS477/Assignments/Assignment06/mlp.py:107\u001b[0m, in \u001b[0;36mMLP.forward\u001b[0;34m(self, x, start, end)\u001b[0m\n\u001b[1;32m    105\u001b[0m \u001b[38;5;28mprint\u001b[39m(\u001b[38;5;124mf\u001b[39m\u001b[38;5;124m\"\u001b[39m\u001b[38;5;124mW: \u001b[39m\u001b[38;5;132;01m{\u001b[39;00mW\u001b[38;5;241m.\u001b[39mshape\u001b[38;5;132;01m}\u001b[39;00m\u001b[38;5;124m\"\u001b[39m)\n\u001b[1;32m    106\u001b[0m y \u001b[38;5;241m=\u001b[39m \u001b[38;5;28mself\u001b[39m\u001b[38;5;241m.\u001b[39mh[k\u001b[38;5;241m-\u001b[39m\u001b[38;5;241m1\u001b[39m]\n\u001b[0;32m--> 107\u001b[0m a \u001b[38;5;241m=\u001b[39m \u001b[43mW\u001b[49m\u001b[38;5;241;43m.\u001b[39;49m\u001b[43mdot\u001b[49m\u001b[43m(\u001b[49m\u001b[43my\u001b[49m\u001b[43m)\u001b[49m\u001b[38;5;241;43m+\u001b[39;49m\u001b[43mb\u001b[49m\n\u001b[1;32m    108\u001b[0m h \u001b[38;5;241m=\u001b[39m f(a)\n\u001b[1;32m    109\u001b[0m \u001b[38;5;28mself\u001b[39m\u001b[38;5;241m.\u001b[39ma[k] \u001b[38;5;241m=\u001b[39m a\n",
      "\u001b[0;31mValueError\u001b[0m: operands could not be broadcast together with shapes (5,20) (5,) "
     ]
    }
   ],
   "source": [
    "model = MLP(10, logistic_loss_deriv)\n",
    "model.add_layer(20, leaky_relu, leaky_relu_deriv)\n",
    "model.add_layer(5, leaky_relu, leaky_relu_deriv, \"special_start\")\n",
    "model.add_layer(8, leaky_relu, leaky_relu_deriv)\n",
    "model.add_layer(7, leaky_relu, leaky_relu_deriv, \"special_end\")\n",
    "model.add_layer(1, leaky_relu, leaky_relu_deriv)\n",
    "x = np.random.randn(10)\n",
    "y = model.forward(x)\n",
    "print(y.shape)\n",
    "# Show how to start/end in the middle of the network\n",
    "x = np.random.randn(20)\n",
    "y = model.forward(x, start=\"special_start\", end=\"special_end\")\n",
    "print(y.shape)\n"
   ]
  },
  {
   "cell_type": "code",
   "execution_count": 16,
   "id": "063ea071",
   "metadata": {},
   "outputs": [
    {
     "name": "stdout",
     "output_type": "stream",
     "text": [
      "name\n"
     ]
    }
   ],
   "source": [
    "name = \"\"\n",
    "m = -1\n",
    "f = -1\n",
    "fderiv = -1\n",
    "_W = -1\n",
    "_b = -1\n",
    "\n",
    "\n",
    "layers = []\n",
    "\n",
    "layers.append({\"name\": name, \"m\": m, \"f\": f, \"fderiv\": fderiv, \"W\": _W, \"b\": _b})\n",
    "\n",
    "name, m, f, fderiv, w, b = layers[0]\n",
    "print(name)"
   ]
  }
 ],
 "metadata": {
  "kernelspec": {
   "display_name": "Python 3 (ipykernel)",
   "language": "python",
   "name": "python3"
  },
  "language_info": {
   "codemirror_mode": {
    "name": "ipython",
    "version": 3
   },
   "file_extension": ".py",
   "mimetype": "text/x-python",
   "name": "python",
   "nbconvert_exporter": "python",
   "pygments_lexer": "ipython3",
   "version": "3.10.4"
  }
 },
 "nbformat": 4,
 "nbformat_minor": 5
}
