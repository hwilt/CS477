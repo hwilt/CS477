{
 "cells": [
  {
   "cell_type": "code",
   "execution_count": 1,
   "id": "49b66e84",
   "metadata": {},
   "outputs": [],
   "source": [
    "import numpy as np\n",
    "import skimage\n",
    "import skimage.io\n",
    "import os\n",
    "\n",
    "X = np.loadtxt(\"mnist_train.csv\", delimiter=',')"
   ]
  },
  {
   "cell_type": "code",
   "execution_count": 2,
   "id": "85137ee8",
   "metadata": {},
   "outputs": [
    {
     "name": "stdout",
     "output_type": "stream",
     "text": [
      "0\n",
      "1\n",
      "2\n",
      "3\n",
      "4\n",
      "5\n",
      "6\n",
      "7\n",
      "8\n",
      "9\n"
     ]
    }
   ],
   "source": [
    "res = 28\n",
    "for label in np.unique(X[:, 0]):\n",
    "    label = int(label)\n",
    "    print(label)\n",
    "    Xl = X[X[:, 0] == label]\n",
    "    N = Xl.shape[0]\n",
    "    K = int(np.ceil(np.sqrt(N)))\n",
    "    I = np.zeros((K*res, K*res), dtype=np.uint8)\n",
    "    for i in range(Xl.shape[0]):\n",
    "        x = Xl[i, 1::]\n",
    "        x = 255 - np.reshape(x, (res, res))\n",
    "        x = np.array(x, dtype=np.uint8)\n",
    "        row = int(i/K)\n",
    "        col = i%K\n",
    "        I[row*res:row*res+res, col*res:col*res+res] = x\n",
    "    skimage.io.imsave(\"Digits/%i.png\"%(label), I)"
   ]
  },
  {
   "cell_type": "code",
   "execution_count": null,
   "id": "5a98e6f2",
   "metadata": {},
   "outputs": [],
   "source": []
  }
 ],
 "metadata": {
  "kernelspec": {
   "display_name": "Python 3",
   "language": "python",
   "name": "python3"
  },
  "language_info": {
   "codemirror_mode": {
    "name": "ipython",
    "version": 3
   },
   "file_extension": ".py",
   "mimetype": "text/x-python",
   "name": "python",
   "nbconvert_exporter": "python",
   "pygments_lexer": "ipython3",
   "version": "3.8.8"
  }
 },
 "nbformat": 4,
 "nbformat_minor": 5
}
