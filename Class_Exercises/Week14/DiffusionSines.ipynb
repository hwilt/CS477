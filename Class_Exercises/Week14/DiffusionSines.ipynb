{
 "cells": [
  {
   "cell_type": "code",
   "execution_count": null,
   "id": "be7a1079",
   "metadata": {},
   "outputs": [],
   "source": [
    "import numpy as np\n",
    "import matplotlib.pyplot as plt\n",
    "import glob\n",
    "\n",
    "import torch\n",
    "from torch import nn\n",
    "from torch.utils.data import Dataset, DataLoader"
   ]
  },
  {
   "cell_type": "code",
   "execution_count": null,
   "id": "07bebca1",
   "metadata": {},
   "outputs": [],
   "source": [
    "class SineData(Dataset):\n",
    "    def __init__(self, fmin, fmax, N, n_samples):\n",
    "        self.fmin = fmin\n",
    "        self.fmax = fmax\n",
    "        self.N = N\n",
    "        self.n_samples = n_samples\n",
    "    \n",
    "    def __len__(self):\n",
    "        return self.n_samples\n",
    "    \n",
    "    def __getitem__(self, idx):\n",
    "        f = self.fmin + (self.fmax-self.fmin)*np.random.rand()\n",
    "        y = np.cos(2*np.pi*(f/self.N)*np.arange(self.N))\n",
    "        return torch.from_numpy(np.array(y, dtype=np.float32))\n",
    "    \n",
    "\n",
    "N = 512\n",
    "dataset = SineData(3, 10, 512, 1024)\n"
   ]
  },
  {
   "cell_type": "code",
   "execution_count": null,
   "id": "f8889b0e",
   "metadata": {},
   "outputs": [],
   "source": [
    "device = \"cuda\"\n",
    "\n",
    "model = model.to(device)\n",
    "\n",
    "## Step 3: Setup the loss function\n",
    "optimizer = torch.optim.Adam(model.parameters(), lr=3e-4)\n",
    "\n",
    "n_epochs = 500\n",
    "train_losses = []\n",
    "\n",
    "batch_size = 32\n",
    "T = 1000\n",
    "\n",
    "\n",
    "losses = []\n",
    "\n",
    "for epoch in range(n_epochs):\n",
    "    loader = DataLoader(dataset, batch_size=batch_size, shuffle=True)\n",
    "    model.train()\n",
    "    for X in loader: # Go through each mini batch\n",
    "        X = X.to(device)\n",
    "        \n",
    "        train_loss += loss.item()\n",
    "        loss.backward()\n",
    "        \n",
    "        optimizer.step()\n",
    "        optimizer.zero_grad()\n",
    "    losses.append(train_loss)\n",
    "    if epoch%50 == 0:\n",
    "        print(\"Epoch {}, loss {:.3f}\".format(epoch, train_loss))\n",
    "    \n",
    "    \n",
    "    "
   ]
  },
  {
   "cell_type": "code",
   "execution_count": null,
   "id": "95cb5549",
   "metadata": {},
   "outputs": [],
   "source": [
    "plt.plot(losses)"
   ]
  },
  {
   "cell_type": "code",
   "execution_count": null,
   "id": "9d400007",
   "metadata": {},
   "outputs": [],
   "source": []
  }
 ],
 "metadata": {
  "kernelspec": {
   "display_name": "Python 3 (ipykernel)",
   "language": "python",
   "name": "python3"
  },
  "language_info": {
   "codemirror_mode": {
    "name": "ipython",
    "version": 3
   },
   "file_extension": ".py",
   "mimetype": "text/x-python",
   "name": "python",
   "nbconvert_exporter": "python",
   "pygments_lexer": "ipython3",
   "version": "3.11.3"
  }
 },
 "nbformat": 4,
 "nbformat_minor": 5
}
