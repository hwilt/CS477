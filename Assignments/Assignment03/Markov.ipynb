{
 "cells": [
  {
   "cell_type": "code",
   "execution_count": 2,
   "id": "9e585a3f",
   "metadata": {},
   "outputs": [],
   "source": [
    "%load_ext autoreload\n",
    "%autoreload 2\n",
    "from markov import *"
   ]
  },
  {
   "cell_type": "markdown",
   "id": "b513f74b",
   "metadata": {},
   "source": [
    "# Making of the add_string() method"
   ]
  },
  {
   "cell_type": "code",
   "execution_count": 41,
   "id": "297b2202",
   "metadata": {},
   "outputs": [
    {
     "name": "stdout",
     "output_type": "stream",
     "text": [
      "CS 47 {'7': 1}\n",
      "S 477 {' ': 1}\n",
      " 477  {'r': 1}\n",
      "477 r {'o': 1}\n",
      "77 ro {'c': 1}\n",
      "7 roc {'k': 1}\n",
      " rock {'s': 1}\n",
      "rocks {'C': 1}\n",
      "ocksC {'S': 1}\n",
      "cksCS {' ': 1}\n",
      "ksCS  {'4': 1}\n",
      "sCS 4 {'7': 1}\n",
      "This is a Markov model with prefix length 5.\n"
     ]
    }
   ],
   "source": [
    "model = MarkovModel(5)\n",
    "model.add_string(\"CS 477 rocks\")\n",
    "#model.get_prefixs()\n",
    "#model.get_prefix_count()\n",
    "print(model)"
   ]
  },
  {
   "cell_type": "markdown",
   "id": "cc03bae4",
   "metadata": {},
   "source": [
    "### Checking actual data"
   ]
  },
  {
   "cell_type": "code",
   "execution_count": 34,
   "id": "fb92c951",
   "metadata": {},
   "outputs": [
    {
     "name": "stdout",
     "output_type": "stream",
     "text": [
      "4032\n",
      "{'s': 4, 'm': 1, 't': 4, 'l': 1, 'j': 1, 'w': 1, 'a': 4, 'b': 1, 'h': 1, 'c': 4, 'k': 1, 'e': 1, 'g': 1}\n"
     ]
    }
   ],
   "source": [
    "model = MarkovModel(5)\n",
    "model.load_file_lines(\"text/spongebobquotes.txt\")\n",
    "print(model.get_prefix_count())\n",
    "print(model.get_prefix(' you '))\n",
    "#print(model)"
   ]
  },
  {
   "cell_type": "code",
   "execution_count": 14,
   "id": "ebd6b4fa",
   "metadata": {},
   "outputs": [
    {
     "data": {
      "text/plain": [
       "13"
      ]
     },
     "execution_count": 14,
     "metadata": {},
     "output_type": "execute_result"
    }
   ],
   "source": [
    "len(model.markov_dict[' you '])"
   ]
  },
  {
   "cell_type": "markdown",
   "id": "ebd3cdc4",
   "metadata": {},
   "source": [
    "`{'s': 4, 'm': 1, 't': 4, 'l': 1, 'j': 1, 'w': 1, 'a': 4, 'b': 1, 'h': 1, 'c': 4, 'k': 1, 'e': 1, 'g': 1}`\n",
    "\n",
    "Should have 4032 unique prefixs;\n",
    "\n",
    "`' you '` will have all the characters above in the dict"
   ]
  },
  {
   "cell_type": "markdown",
   "id": "2f10b83a",
   "metadata": {},
   "source": [
    "# Computing Probabilities (10 Pts)\n",
    "\n",
    "\"aaacbaaaacabacbbcabcccbccaaac\" <br>\n",
    "probablity of \"aacabaa\" = -3.91"
   ]
  },
  {
   "cell_type": "code",
   "execution_count": 111,
   "id": "8fb275e3",
   "metadata": {},
   "outputs": [
    {
     "name": "stdout",
     "output_type": "stream",
     "text": [
      "prefix: aac. character a. np: 3. npc: 2. curr prob: -0.6931471805599453.\n",
      "prefix: aca. character b. np: 2. npc: 1. curr prob: -0.916290731874155.\n",
      "prefix: cab. character a. np: 2. npc: 1. curr prob: -0.916290731874155.\n",
      "prefix: aba. character a. np: 1. npc: 0. curr prob: -1.3862943611198906.\n",
      "probablity: -3.91\n"
     ]
    }
   ],
   "source": [
    "m = MarkovModel(3)\n",
    "m.add_string(\"aaacbaaaacabacbbcabcccbccaaac\")\n",
    "#print(m)\n",
    "print(\"probablity: {:.2f}\".format(m.get_log_probability(\"aacabaa\", debug=True)))"
   ]
  },
  {
   "cell_type": "code",
   "execution_count": 116,
   "id": "c6c3a44d",
   "metadata": {},
   "outputs": [
    {
     "name": "stdout",
     "output_type": "stream",
     "text": [
      "probablity: -40.5\n"
     ]
    }
   ],
   "source": [
    "model = MarkovModel(6)\n",
    "model.load_file_lines(\"text/spongebobquotes.txt\")\n",
    "#print(model.get_unique_chars())\n",
    "print(\"probablity: {:.1f}\".format(model.get_log_probability(\"I'm ready, I'm ready\")))"
   ]
  },
  {
   "cell_type": "markdown",
   "id": "aa81ce81",
   "metadata": {},
   "source": [
    "probablity should be \"-40.5\""
   ]
  },
  {
   "cell_type": "code",
   "execution_count": 110,
   "id": "6d56202d",
   "metadata": {},
   "outputs": [
    {
     "name": "stdout",
     "output_type": "stream",
     "text": [
      "probablity: -69.6\n"
     ]
    }
   ],
   "source": [
    "print(\"probablity: {:.1f}\".format(model.get_log_probability(\"Artificial intelligence\")))"
   ]
  },
  {
   "cell_type": "markdown",
   "id": "2905d5a5",
   "metadata": {},
   "source": [
    "probablity should be \"-69.6\""
   ]
  },
  {
   "cell_type": "markdown",
   "id": "e5a5a1bf",
   "metadata": {},
   "source": [
    "# 2016 US Presidental Debate (10 Pts)"
   ]
  },
  {
   "cell_type": "code",
   "execution_count": 117,
   "id": "079eab41",
   "metadata": {},
   "outputs": [],
   "source": [
    "K = 5\n",
    "trump = MarkovModel(K)\n",
    "trump.load_file(\"text/2016Debates/trump1.txt\")\n",
    "trump.load_file(\"text/2016Debates/trump2.txt\")\n",
    "clinton = MarkovModel(K)\n",
    "clinton.load_file(\"text/2016Debates/clinton1.txt\")\n",
    "clinton.load_file(\"text/2016Debates/clinton2.txt\")\n"
   ]
  },
  {
   "cell_type": "code",
   "execution_count": 120,
   "id": "8ef74814",
   "metadata": {},
   "outputs": [],
   "source": [
    "#example of how to load all of the segments from Trump as strings\n",
    "for i in range(40):\n",
    "    fin = open(\"text/2016Debates/trump3-{:02d}.txt\".format(i), encoding=\"utf8\")\n",
    "    s = fin.read() # This holds the text as a string\n",
    "    #print(s)\n",
    "    fin.close()\n",
    "    #TODO:"
   ]
  },
  {
   "cell_type": "code",
   "execution_count": 121,
   "id": "9fd8efc1",
   "metadata": {
    "collapsed": true
   },
   "outputs": [
    {
     "data": {
      "text/plain": [
       "'train clinton model on clinton quotes from the first two debates\\ntrain trump model on trump quotes from the first two debates\\n \\nfor quote in third clinton debate:\\n    prob1 = log probability of quote given clinton model\\n    prob2 = log probability of quote given trump model\\n    if prob2 > prob1:\\n        correct++\\n    else\\n        incorrect++\\n'"
      ]
     },
     "execution_count": 121,
     "metadata": {},
     "output_type": "execute_result"
    }
   ],
   "source": [
    "'''train clinton model on clinton quotes from the first two debates\n",
    "train trump model on trump quotes from the first two debates\n",
    " \n",
    "for quote in third clinton debate:\n",
    "    prob1 = log probability of quote given clinton model\n",
    "    prob2 = log probability of quote given trump model\n",
    "    if prob2 > prob1:\n",
    "        correct++\n",
    "    else\n",
    "        incorrect++\n",
    "'''"
   ]
  }
 ],
 "metadata": {
  "kernelspec": {
   "display_name": "Python 3 (ipykernel)",
   "language": "python",
   "name": "python3"
  },
  "language_info": {
   "codemirror_mode": {
    "name": "ipython",
    "version": 3
   },
   "file_extension": ".py",
   "mimetype": "text/x-python",
   "name": "python",
   "nbconvert_exporter": "python",
   "pygments_lexer": "ipython3",
   "version": "3.10.4"
  }
 },
 "nbformat": 4,
 "nbformat_minor": 5
}
