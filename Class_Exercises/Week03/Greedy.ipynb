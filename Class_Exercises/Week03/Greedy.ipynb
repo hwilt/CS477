{
 "cells": [
  {
   "cell_type": "code",
   "execution_count": 4,
   "id": "3b962f32",
   "metadata": {},
   "outputs": [],
   "source": [
    "from heapq import heappush, heappop"
   ]
  },
  {
   "cell_type": "code",
   "execution_count": 5,
   "id": "cf5b28f4",
   "metadata": {},
   "outputs": [
    {
     "name": "stdout",
     "output_type": "stream",
     "text": [
      "(1, 'Pat')\n",
      "(2, 'Evan')\n",
      "(2, 'James')\n",
      "(2, 'z')\n",
      "(8, 'Josh')\n",
      "(17, 'Kacey')\n",
      "(477, 'Zach')\n"
     ]
    }
   ],
   "source": [
    "line = []\n",
    "\n",
    "heappush(line, (477, \"Zach\"))\n",
    "heappush(line, (2, \"James\"))\n",
    "heappush(line, (1, \"Pat\"))\n",
    "heappush(line, (17, \"Kacey\"))\n",
    "heappush(line, (8, \"Josh\"))\n",
    "heappush(line, (2, \"Evan\"))\n",
    "heappush(line, (2, \"z\"))   # will be after evan and james because of tuple \n",
    "\n",
    "## min priority queue\n",
    "while len(line) > 0:\n",
    "    print(heappop(line))"
   ]
  },
  {
   "cell_type": "markdown",
   "id": "d0f1df34",
   "metadata": {},
   "source": [
    "# Uniform cost search (UCS):\n",
    "\n",
    "- Prority is cummulative sum of all steps taken to get to that node\n",
    "- Dijkstan's Algorithm\n",
    "\n",
    "\n",
    "(cumcost, state)<br>\n",
    ".--->.--d1-->_n1_ (cumcost + d1, n1)<br>\n",
    "     .--d2-->_n2_ (cumcost + d2, n2)<br>\n",
    "     .--d3-->_n3_ (cumcost + d3, n3)<br>\n",
    "\n",
    "\n",
    "Vist closer nodes first\n",
    "\n",
    "**Prop**: If all steps are the same constant cost, c, then UCS is equivalent to Breadth First Graph Search (BFG - Search)\n",
    "\n",
    "\n",
    "### Def: (Admissible) Formal Heuristic\n",
    "\n",
    "- Let d(a,b) shortest distance from a to b in state space\n",
    "  - abbreviate d(n, goal) as just d(n)\n",
    "- Let h(a,b) be some estimate not exceding d\n",
    "  - abbreviate h(n, goal) = h(n)\n",
    "  - $0 \\leq h(n) \\leq d(n)$\n",
    "\n",
    "Ex) $h(n,goal)$ = straight line distance to the goal ($\\sqrt{( a^2+b^2 )}=c$)\n",
    "\n",
    "\n",
    "### Greedy Best-First\n",
    "\n",
    "- Proritize by heuristic\n",
    "- push(h(n), n)\n",
    "\n",
    "\n",
    "### A* Search\n",
    "\n",
    "- push(h(n) + cumcost, n)"
   ]
  },
  {
   "cell_type": "code",
   "execution_count": null,
   "id": "201263e7",
   "metadata": {},
   "outputs": [],
   "source": []
  }
 ],
 "metadata": {
  "kernelspec": {
   "display_name": "Python 3 (ipykernel)",
   "language": "python",
   "name": "python3"
  },
  "language_info": {
   "codemirror_mode": {
    "name": "ipython",
    "version": 3
   },
   "file_extension": ".py",
   "mimetype": "text/x-python",
   "name": "python",
   "nbconvert_exporter": "python",
   "pygments_lexer": "ipython3",
   "version": "3.10.4"
  }
 },
 "nbformat": 4,
 "nbformat_minor": 5
}
