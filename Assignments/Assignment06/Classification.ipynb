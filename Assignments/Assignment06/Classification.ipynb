{
 "cells": [
  {
   "cell_type": "code",
   "execution_count": 2,
   "id": "088da243",
   "metadata": {},
   "outputs": [],
   "source": [
    "%reload_ext autoreload\n",
    "%autoreload 2\n",
    "import numpy as np\n",
    "import matplotlib.pyplot as plt\n",
    "import matplotlib.animation as animation\n",
    "import IPython.display as ipd\n",
    "from digits import *"
   ]
  },
  {
   "cell_type": "code",
   "execution_count": 3,
   "id": "7e4edb13",
   "metadata": {
    "scrolled": true
   },
   "outputs": [],
   "source": [
    "X, Y = get_digits(\"Digits\")\n",
    "XTest, YTest = get_digits(\"DigitsTest\")"
   ]
  },
  {
   "cell_type": "code",
   "execution_count": 4,
   "id": "75f5b079",
   "metadata": {},
   "outputs": [
    {
     "ename": "NameError",
     "evalue": "name 'XTrain' is not defined",
     "output_type": "error",
     "traceback": [
      "\u001b[0;31m---------------------------------------------------------------------------\u001b[0m",
      "\u001b[0;31mNameError\u001b[0m                                 Traceback (most recent call last)",
      "Cell \u001b[0;32mIn[4], line 1\u001b[0m\n\u001b[0;32m----> 1\u001b[0m nn \u001b[38;5;241m=\u001b[39m MLP(\u001b[43mXTrain\u001b[49m\u001b[38;5;241m.\u001b[39mshape[\u001b[38;5;241m1\u001b[39m], softmax_est_crossentropy_deriv)\n\u001b[1;32m      2\u001b[0m nn\u001b[38;5;241m.\u001b[39madd_layer(\u001b[38;5;241m20\u001b[39m, leaky_relu, leaky_relu_deriv)\n\u001b[1;32m      3\u001b[0m nn\u001b[38;5;241m.\u001b[39madd_layer(\u001b[38;5;241m10\u001b[39m, softmax, \u001b[38;5;28;01mNone\u001b[39;00m)\n",
      "\u001b[0;31mNameError\u001b[0m: name 'XTrain' is not defined"
     ]
    }
   ],
   "source": [
    "nn = MLP(XTrain.shape[1], softmax_est_crossentropy_deriv)\n",
    "nn.add_layer(20, leaky_relu, leaky_relu_deriv)\n",
    "nn.add_layer(10, softmax, None)"
   ]
  },
  {
   "cell_type": "code",
   "execution_count": null,
   "id": "1078d30f",
   "metadata": {},
   "outputs": [],
   "source": []
  }
 ],
 "metadata": {
  "kernelspec": {
   "display_name": "Python 3 (ipykernel)",
   "language": "python",
   "name": "python3"
  },
  "language_info": {
   "codemirror_mode": {
    "name": "ipython",
    "version": 3
   },
   "file_extension": ".py",
   "mimetype": "text/x-python",
   "name": "python",
   "nbconvert_exporter": "python",
   "pygments_lexer": "ipython3",
   "version": "3.10.4"
  }
 },
 "nbformat": 4,
 "nbformat_minor": 5
}
