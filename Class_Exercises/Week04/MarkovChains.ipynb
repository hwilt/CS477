{
 "cells": [
  {
   "cell_type": "code",
   "execution_count": 2,
   "id": "178e6a29",
   "metadata": {},
   "outputs": [],
   "source": [
    "import numpy as np\n",
    "x = np.random.rand() # Will choose a number in [0, 1] uniformly at random\n"
   ]
  },
  {
   "cell_type": "code",
   "execution_count": 3,
   "id": "0bc3f944",
   "metadata": {},
   "outputs": [],
   "source": [
    "## aa = 0.2, ab = 0.3, ac = 0.5\n",
    "## ba = 0.5, bb = 0, bc = 0.5\n",
    "## ca = 0.1, cb = 0.1, cc = 0.8\n",
    "probs = {'a':{'a':0.2, 'b':0.3, 'c':0.5},\n",
    "         'b':{'a':0.5, 'b':0, 'c':0.5},\n",
    "         'c':{'a':0.1, 'b':0.1, 'c':0.8}} "
   ]
  },
  {
   "cell_type": "code",
   "execution_count": 8,
   "id": "b49fb7c8",
   "metadata": {},
   "outputs": [
    {
     "name": "stdout",
     "output_type": "stream",
     "text": [
      "transition from a to b: 0.3\n",
      "transition from c to a: 0.1\n"
     ]
    }
   ],
   "source": [
    "# This gives 0.3, the transition probability from a to b\n",
    "print(\"transition from a to b: {}\".format(probs['a']['b'])) \n",
    "\n",
    "\n",
    "# This gives 0.1, the transition probability from c to a\n",
    "print(\"transition from c to a: {}\".format(probs['c']['a'])) "
   ]
  },
  {
   "cell_type": "code",
   "execution_count": 31,
   "id": "e66cae2c",
   "metadata": {},
   "outputs": [
    {
     "name": "stdout",
     "output_type": "stream",
     "text": [
      "('acccc', 0.0125)\n",
      "\n",
      "Example: abccaa\n",
      "Expected: 0.0024\n",
      "Real: 0.0024\n"
     ]
    }
   ],
   "source": [
    "def get_char(curr, prob):\n",
    "    \"\"\"\n",
    "    parameters:\n",
    "    -----------\n",
    "    curr (char):\n",
    "    prob (float): random from [0,1]\n",
    "    \n",
    "    return:\n",
    "    -------\n",
    "    char: most likely character from curr\n",
    "    \"\"\"\n",
    "    a = probs[curr]['a']\n",
    "    b = probs[curr]['b']\n",
    "    c = probs[curr]['c']\n",
    "    \n",
    "    pa = a\n",
    "    pb = pa + b\n",
    "    pc = pb + c\n",
    "    \n",
    "    ret = ''\n",
    "    if prob < pa:\n",
    "        ret = 'a'\n",
    "    elif prob < pb:\n",
    "        ret = 'b'\n",
    "    elif prob < pc:\n",
    "        ret = 'c'  \n",
    "    return ret\n",
    "\n",
    "def get_probability(start, end):\n",
    "    \"\"\"\n",
    "    parameters:\n",
    "    -----------\n",
    "    start (char)\n",
    "    end (char)\n",
    "    \n",
    "    return:\n",
    "    -------\n",
    "    float: probability from start to end\n",
    "    \"\"\"\n",
    "    return probs[start][end]\n",
    "\n",
    "#print(get_char('a', 0.1))\n",
    "\n",
    "def get_string(start, N):\n",
    "    \"\"\"\n",
    "    parameters:\n",
    "    -----------\n",
    "    start (char): either 'a', 'b', or 'c'\n",
    "    N (int): length of string\n",
    "    \n",
    "    returns:\n",
    "    --------\n",
    "    (str, int)\n",
    "    str: string of random chars\n",
    "    int: probablity of string\n",
    "    \"\"\"\n",
    "    curr = start\n",
    "    string = ''\n",
    "    stat = 1\n",
    "    for n in range(N):\n",
    "        x = np.random.rand() # gets a number from [0,1]\n",
    "        string += get_char(curr, x)\n",
    "        stat = stat * get_probability(curr, string[-1])\n",
    "    return string, stat\n",
    "\n",
    "print(get_string('a', 5))\n",
    "\n",
    "example = 'abccaa'\n",
    "res = 1\n",
    "for i in range(len(example)-1):\n",
    "    #print(example[i], example[i+1])\n",
    "    res = res * get_probability(example[i], example[i+1]) \n",
    "print(\"\\nExample: {}\\nExpected: 0.0024\\nReal: {:.4f}\".format(example,res))"
   ]
  },
  {
   "cell_type": "code",
   "execution_count": null,
   "id": "51634157",
   "metadata": {},
   "outputs": [],
   "source": []
  }
 ],
 "metadata": {
  "kernelspec": {
   "display_name": "Python 3 (ipykernel)",
   "language": "python",
   "name": "python3"
  },
  "language_info": {
   "codemirror_mode": {
    "name": "ipython",
    "version": 3
   },
   "file_extension": ".py",
   "mimetype": "text/x-python",
   "name": "python",
   "nbconvert_exporter": "python",
   "pygments_lexer": "ipython3",
   "version": "3.10.4"
  }
 },
 "nbformat": 4,
 "nbformat_minor": 5
}
