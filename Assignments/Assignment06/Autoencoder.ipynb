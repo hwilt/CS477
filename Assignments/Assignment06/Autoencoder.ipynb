{
 "cells": [
  {
   "cell_type": "code",
   "execution_count": null,
   "id": "b9ff6157",
   "metadata": {},
   "outputs": [],
   "source": [
    "%reload_ext autoreload\n",
    "%autoreload 2\n",
    "import numpy as np\n",
    "import matplotlib.pyplot as plt\n",
    "import matplotlib.animation as animation\n",
    "import IPython.display as ipd\n",
    "from digits import *"
   ]
  },
  {
   "cell_type": "code",
   "execution_count": null,
   "id": "139e22c7",
   "metadata": {},
   "outputs": [],
   "source": [
    "class PCAModel:\n",
    "    \"\"\"\n",
    "    A class that performs PCA and is compatible with the plotting\n",
    "    interface for showing the latent space of digits\n",
    "    \"\"\"\n",
    "    def __init__(self, X):\n",
    "        import numpy.linalg as linalg\n",
    "        mu = np.mean(X, axis=0)\n",
    "        self.mu = mu\n",
    "        X = X - mu[None, :]\n",
    "        A = (X.T).dot(X)\n",
    "        v, U = linalg.eigh(A)\n",
    "        self.U = U[:, -2::]\n",
    "        v[v < 0] = 0\n",
    "        v = v[::-1]\n",
    "        print(\"Variance Explained: {:.2f}%\".format(100*np.sum(v[0:2])/np.sum(v)))\n",
    "     \n",
    "    def forward(self, x, end=None):\n",
    "        x = x - self.mu\n",
    "        u = (self.U.T).dot(x)\n",
    "        if end == \"latent\":\n",
    "            ret = u\n",
    "        else:\n",
    "            ret = self.U.dot(u) + self.mu\n",
    "            ret[ret < 0] = 0\n",
    "            ret[ret > 1] = 1\n",
    "        return ret\n",
    "     \n",
    "X, Y = get_digits(\"Digits\")\n",
    "model = PCAModel(X)\n",
    "plt.figure(figsize=(10, 10))\n",
    "plot_digits_dimreduced_examples(X, Y, model)"
   ]
  }
 ],
 "metadata": {
  "kernelspec": {
   "display_name": "Python 3 (ipykernel)",
   "language": "python",
   "name": "python3"
  },
  "language_info": {
   "codemirror_mode": {
    "name": "ipython",
    "version": 3
   },
   "file_extension": ".py",
   "mimetype": "text/x-python",
   "name": "python",
   "nbconvert_exporter": "python",
   "pygments_lexer": "ipython3",
   "version": "3.10.4"
  }
 },
 "nbformat": 4,
 "nbformat_minor": 5
}
