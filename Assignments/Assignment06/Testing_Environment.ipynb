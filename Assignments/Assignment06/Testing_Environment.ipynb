{
 "cells": [
  {
   "cell_type": "code",
   "execution_count": 1,
   "id": "4837d425",
   "metadata": {},
   "outputs": [],
   "source": [
    "%load_ext autoreload\n",
    "%autoreload 2\n",
    "import numpy as np\n",
    "import matplotlib.pyplot as plt\n",
    "import matplotlib.animation as animation\n",
    "import IPython.display as ipd\n",
    "from mlp import *\n",
    "from layers import *\n",
    "from losses import *"
   ]
  },
  {
   "cell_type": "code",
   "execution_count": 2,
   "id": "2d48bc43",
   "metadata": {},
   "outputs": [
    {
     "data": {
      "text/plain": [
       "(10,)"
      ]
     },
     "execution_count": 2,
     "metadata": {},
     "output_type": "execute_result"
    }
   ],
   "source": [
    "x = np.random.randn(10)\n",
    "x.shape\n",
    "y = x\n",
    "y.shape"
   ]
  },
  {
   "cell_type": "code",
   "execution_count": 14,
   "id": "db92c89f",
   "metadata": {},
   "outputs": [
    {
     "name": "stdout",
     "output_type": "stream",
     "text": [
      "[-0.24892418  0.64422059  1.17259427  1.2982172  -0.07187979 -0.19670617\n",
      "  0.88477259 -0.2186874  -0.25079616  0.06289744]\n"
     ]
    }
   ],
   "source": [
    "L = 5\n",
    "h = []\n",
    "x = np.random.randn(10)\n",
    "h = [0]*L\n",
    "h[0] = x\n",
    "\n",
    "print(h[0])"
   ]
  },
  {
   "cell_type": "code",
   "execution_count": 57,
   "id": "8e3b117a",
   "metadata": {
    "scrolled": true
   },
   "outputs": [
    {
     "ename": "ValueError",
     "evalue": "shapes (10,20) and (10,) not aligned: 20 (dim 1) != 10 (dim 0)",
     "output_type": "error",
     "traceback": [
      "\u001b[0;31m---------------------------------------------------------------------------\u001b[0m",
      "\u001b[0;31mValueError\u001b[0m                                Traceback (most recent call last)",
      "Cell \u001b[0;32mIn[57], line 8\u001b[0m\n\u001b[1;32m      6\u001b[0m model\u001b[38;5;241m.\u001b[39madd_layer(\u001b[38;5;241m1\u001b[39m, leaky_relu, leaky_relu_deriv)\n\u001b[1;32m      7\u001b[0m x \u001b[38;5;241m=\u001b[39m np\u001b[38;5;241m.\u001b[39mrandom\u001b[38;5;241m.\u001b[39mrandn(\u001b[38;5;241m10\u001b[39m)\n\u001b[0;32m----> 8\u001b[0m y \u001b[38;5;241m=\u001b[39m \u001b[43mmodel\u001b[49m\u001b[38;5;241;43m.\u001b[39;49m\u001b[43mforward\u001b[49m\u001b[43m(\u001b[49m\u001b[43mx\u001b[49m\u001b[43m)\u001b[49m\n\u001b[1;32m      9\u001b[0m \u001b[38;5;28mprint\u001b[39m(y\u001b[38;5;241m.\u001b[39mshape)\n\u001b[1;32m     10\u001b[0m \u001b[38;5;66;03m# Show how to start/end in the middle of the network\u001b[39;00m\n",
      "File \u001b[0;32m~/COLLEGE/2024_Senior_Year/Fall2023/CS477/CS477/Assignments/Assignment06/mlp.py:103\u001b[0m, in \u001b[0;36mMLP.forward\u001b[0;34m(self, x, start, end)\u001b[0m\n\u001b[1;32m    101\u001b[0m f \u001b[38;5;241m=\u001b[39m layer[\u001b[38;5;124m\"\u001b[39m\u001b[38;5;124mf\u001b[39m\u001b[38;5;124m\"\u001b[39m]\n\u001b[1;32m    102\u001b[0m y \u001b[38;5;241m=\u001b[39m \u001b[38;5;28mself\u001b[39m\u001b[38;5;241m.\u001b[39mh[k]\n\u001b[0;32m--> 103\u001b[0m a \u001b[38;5;241m=\u001b[39m \u001b[43mW\u001b[49m\u001b[38;5;241;43m.\u001b[39;49m\u001b[43mT\u001b[49m\u001b[38;5;241;43m.\u001b[39;49m\u001b[43mdot\u001b[49m\u001b[43m(\u001b[49m\u001b[43my\u001b[49m\u001b[43m)\u001b[49m\u001b[38;5;241m+\u001b[39mb\n\u001b[1;32m    104\u001b[0m h \u001b[38;5;241m=\u001b[39m f(a)\n\u001b[1;32m    105\u001b[0m \u001b[38;5;28mself\u001b[39m\u001b[38;5;241m.\u001b[39ma[k] \u001b[38;5;241m=\u001b[39m a\n",
      "\u001b[0;31mValueError\u001b[0m: shapes (10,20) and (10,) not aligned: 20 (dim 1) != 10 (dim 0)"
     ]
    }
   ],
   "source": [
    "model = MLP(10, logistic_loss_deriv)\n",
    "model.add_layer(20, leaky_relu, leaky_relu_deriv)\n",
    "model.add_layer(5, leaky_relu, leaky_relu_deriv, \"special_start\")\n",
    "model.add_layer(8, leaky_relu, leaky_relu_deriv)\n",
    "model.add_layer(7, leaky_relu, leaky_relu_deriv, \"special_end\")\n",
    "model.add_layer(1, leaky_relu, leaky_relu_deriv)\n",
    "x = np.random.randn(10)\n",
    "y = model.forward(x)\n",
    "print(y.shape)\n",
    "# Show how to start/end in the middle of the network\n",
    "x = np.random.randn(20)\n",
    "y = model.forward(x, start=\"special_start\", end=\"special_end\")\n",
    "print(y.shape)\n"
   ]
  },
  {
   "cell_type": "code",
   "execution_count": 16,
   "id": "063ea071",
   "metadata": {},
   "outputs": [
    {
     "name": "stdout",
     "output_type": "stream",
     "text": [
      "name\n"
     ]
    }
   ],
   "source": [
    "name = \"\"\n",
    "m = -1\n",
    "f = -1\n",
    "fderiv = -1\n",
    "_W = -1\n",
    "_b = -1\n",
    "\n",
    "\n",
    "layers = []\n",
    "\n",
    "layers.append({\"name\": name, \"m\": m, \"f\": f, \"fderiv\": fderiv, \"W\": _W, \"b\": _b})\n",
    "\n",
    "name, m, f, fderiv, w, b = layers[0]\n",
    "print(name)"
   ]
  }
 ],
 "metadata": {
  "kernelspec": {
   "display_name": "Python 3 (ipykernel)",
   "language": "python",
   "name": "python3"
  },
  "language_info": {
   "codemirror_mode": {
    "name": "ipython",
    "version": 3
   },
   "file_extension": ".py",
   "mimetype": "text/x-python",
   "name": "python",
   "nbconvert_exporter": "python",
   "pygments_lexer": "ipython3",
   "version": "3.10.4"
  }
 },
 "nbformat": 4,
 "nbformat_minor": 5
}
