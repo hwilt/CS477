{
 "cells": [
  {
   "cell_type": "markdown",
   "id": "a53eacd2",
   "metadata": {},
   "source": [
    "# Robot Localization\n",
    "## Chris Tralie\n",
    "\n",
    "Online and offline bayesian robot localization in a simulated 2D environment"
   ]
  },
  {
   "cell_type": "code",
   "execution_count": 4,
   "id": "d6fe36e0",
   "metadata": {},
   "outputs": [
    {
     "name": "stdout",
     "output_type": "stream",
     "text": [
      "Requirement already satisfied: scikit-image in /Users/hwilt/.pyenv/versions/3.10.4/lib/python3.10/site-packages (0.20.0)\r\n",
      "Requirement already satisfied: numpy>=1.21.1 in /Users/hwilt/.pyenv/versions/3.10.4/lib/python3.10/site-packages (from scikit-image) (1.23.5)\r\n",
      "Requirement already satisfied: scipy>=1.8 in /Users/hwilt/.pyenv/versions/3.10.4/lib/python3.10/site-packages (from scikit-image) (1.10.0)\r\n",
      "Requirement already satisfied: networkx>=2.8 in /Users/hwilt/.pyenv/versions/3.10.4/lib/python3.10/site-packages (from scikit-image) (3.0)\r\n",
      "Requirement already satisfied: pillow>=9.0.1 in /Users/hwilt/.pyenv/versions/3.10.4/lib/python3.10/site-packages (from scikit-image) (9.4.0)\r\n",
      "Requirement already satisfied: imageio>=2.4.1 in /Users/hwilt/.pyenv/versions/3.10.4/lib/python3.10/site-packages (from scikit-image) (2.26.0)\r\n",
      "Requirement already satisfied: tifffile>=2019.7.26 in /Users/hwilt/.pyenv/versions/3.10.4/lib/python3.10/site-packages (from scikit-image) (2023.3.15)\r\n",
      "Requirement already satisfied: PyWavelets>=1.1.1 in /Users/hwilt/.pyenv/versions/3.10.4/lib/python3.10/site-packages (from scikit-image) (1.4.1)\r\n",
      "Requirement already satisfied: packaging>=20.0 in /Users/hwilt/.pyenv/versions/3.10.4/lib/python3.10/site-packages (from scikit-image) (23.0)\r\n",
      "Requirement already satisfied: lazy_loader>=0.1 in /Users/hwilt/.pyenv/versions/3.10.4/lib/python3.10/site-packages (from scikit-image) (0.1)\r\n"
     ]
    }
   ],
   "source": [
    "# Install scikit-image if needed\n",
    "import sys\n",
    "!{sys.executable} -m pip install scikit-image"
   ]
  },
  {
   "cell_type": "code",
   "execution_count": 5,
   "id": "9742e258",
   "metadata": {},
   "outputs": [
    {
     "name": "stdout",
     "output_type": "stream",
     "text": [
      "The autoreload extension is already loaded. To reload it, use:\n",
      "  %reload_ext autoreload\n"
     ]
    }
   ],
   "source": [
    "#%matplotlib notebook\n",
    "%load_ext autoreload\n",
    "%autoreload 2\n",
    "import numpy as np\n",
    "import matplotlib.pyplot as plt\n",
    "import matplotlib.cm as cm\n",
    "import matplotlib.animation as animation\n",
    "import IPython.display as ipd\n",
    "from environment import *"
   ]
  },
  {
   "cell_type": "markdown",
   "id": "95d6e83a",
   "metadata": {},
   "source": [
    "## Step 1: Setup Map And Measurements\n",
    "\n",
    "First, setup the map and a trajectory through it.  Compute perfect measurements from every location on the map, as well as noisy observations from every point on the trajectory"
   ]
  },
  {
   "cell_type": "code",
   "execution_count": 6,
   "id": "dc058597",
   "metadata": {
    "scrolled": false
   },
   "outputs": [
    {
     "data": {
      "text/plain": [
       "[<matplotlib.lines.Line2D at 0x1749888b0>]"
      ]
     },
     "execution_count": 6,
     "metadata": {},
     "output_type": "execute_result"
    },
    {
     "data": {
      "image/png": "[encoded data removed]",
      "text/plain": [
       "<Figure size 640x480 with 1 Axes>"
      ]
     },
     "metadata": {},
     "output_type": "display_data"
    }
   ],
   "source": [
    "env = Environment(\"Maze1.png\")\n",
    "res = 50\n",
    "# Devise a path through that environment that passes through 3 locations\n",
    "X = env.simulate_trajectory([[0, 15], [27, 40], [26, 12]])\n",
    "\n",
    "# Compute perfect scans from each location to use in the observation model\n",
    "N = len(env.X)\n",
    "state_scans = [env.get_range_scan(env.X[i], res, alpha=0) for i in range(N)]\n",
    "\n",
    "# Create observed scans from all locations on the trajectory\n",
    "alpha = 4\n",
    "np.random.seed(0)\n",
    "observed_scans = [env.get_range_scan(X[i, :], res, alpha) for i in range(X.shape[0])]\n",
    "\n",
    "# Plot the map and the trajectory\n",
    "plt.figure()\n",
    "env.plot()\n",
    "plt.plot(X[:, 0], X[:, 1])"
   ]
  },
  {
   "cell_type": "markdown",
   "id": "de2397d4",
   "metadata": {},
   "source": [
    "## Step 2: Online Tracking with Bayes Filter"
   ]
  },
  {
   "cell_type": "code",
   "execution_count": null,
   "id": "15e2108e",
   "metadata": {
    "scrolled": false
   },
   "outputs": [
    {
     "name": "stderr",
     "output_type": "stream",
     "text": [
      "MovieWriter ffmpeg unavailable; using Pillow instead.\n"
     ]
    }
   ],
   "source": [
    "frames = [] # for storing the generated images\n",
    "fig = plt.figure(figsize=(6, 6))\n",
    "K = env.X.shape[0] # Number of states\n",
    "\n",
    "belief = np.ones(K)/K # Initial belief\n",
    "\n",
    "for i in range(X.shape[0]): # T Filter every measurement that comes in   T = X.shape[0]\n",
    "    ## TODO: Bayes filtering for this frame index\n",
    "    probs = np.zeros(K)\n",
    "    for j in range(K):\n",
    "        for k in env.neighbors[j]:\n",
    "            # belief at k times probablity to transition from k to j\n",
    "            probs[j] += belief[k]*(1/len(env.neighbors[k]))\n",
    "        probs[j] = probs[j]*get_measurement_prob(state_scans[j], observed_scans[i], 4)\n",
    "        #belief[j]\n",
    "            \n",
    "            \n",
    "    belief = probs/np.sum(probs)    \n",
    "    plot = env.plot_probabilities(belief, p=1e-2)\n",
    "    plot.append(plt.scatter([X[i, 0]], [X[i, 1]], c='C0'))\n",
    "    frames.append(plot)\n",
    "ani = animation.ArtistAnimation(fig, frames, interval=200, blit=True, repeat_delay=1000)\n",
    "ani.save(\"BayesFilter.gif\")"
   ]
  },
  {
   "cell_type": "markdown",
   "id": "19aeb003",
   "metadata": {},
   "source": [
    "## Step 3: Offline Tracking with Viterbi"
   ]
  },
  {
   "cell_type": "code",
   "execution_count": 8,
   "id": "851fb997",
   "metadata": {},
   "outputs": [
    {
     "data": {
      "image/png": "[encoded data removed]",
      "text/plain": [
       "<Figure size 640x480 with 1 Axes>"
      ]
     },
     "metadata": {},
     "output_type": "display_data"
    }
   ],
   "source": [
    "T = len(observed_scans)\n",
    "K = env.X.shape[0]\n",
    "\n",
    "L = np.zeros((T, K)) # Maximum accumulated probabilities at every time at every state\n",
    "B = np.zeros((T, K), dtype=int) # Previous states that led to maximum accumulated probabilities, used for backtracing\n",
    "B[:, 0] = -1\n",
    "\n",
    "## Step 1: Initial Conditions\n",
    "for k in range(K):\n",
    "    L[0, k] = get_measurement_prob(state_scans[k], observed_scans[0], alpha, use_log=True)\n",
    "    \n",
    "## Step 2: Dynamic programming\n",
    "for n in range(1, T): # For each timestep\n",
    "    for k, scan in enumerate(state_scans): # For each state on the map\n",
    "        maxval = -np.inf\n",
    "        argmax = 0\n",
    "        ## TODO: Compute the maximum probability and the previous state \n",
    "        ## that led to it in maxval and argmax, respectively\n",
    "        ## Then assign these to L and B\n",
    "        \n",
    "## Step 3: Maximum selection and backtracing\n",
    "state = np.argmax(L[-1, :])\n",
    "states = [state]\n",
    "\n",
    "## TODO: Finish backtracing\n",
    "\n",
    "\n",
    "states = np.array(states, dtype=int)\n",
    "Y = env.X[states, :]\n",
    "\n",
    "\n",
    "plt.figure()\n",
    "plt.plot(X[:, 0], X[:, 1], 'k', linewidth=4)\n",
    "plt.plot(Y[:, 0], Y[:, 1], 'C1', linestyle='--')\n",
    "plt.legend([\"Ground Truth\", \"Estimated\"])\n",
    "plt.axis(\"equal\")\n",
    "plt.title(\"Estimated Trajectory, $\\\\alpha={:.3f}$\".format(alpha))\n",
    "plt.savefig(\"Est.svg\", facecolor='white')"
   ]
  },
  {
   "cell_type": "code",
   "execution_count": null,
   "id": "018a4bc2",
   "metadata": {},
   "outputs": [],
   "source": []
  }
 ],
 "metadata": {
  "kernelspec": {
   "display_name": "Python 3 (ipykernel)",
   "language": "python",
   "name": "python3"
  },
  "language_info": {
   "codemirror_mode": {
    "name": "ipython",
    "version": 3
   },
   "file_extension": ".py",
   "mimetype": "text/x-python",
   "name": "python",
   "nbconvert_exporter": "python",
   "pygments_lexer": "ipython3",
   "version": "3.10.4"
  }
 },
 "nbformat": 4,
 "nbformat_minor": 5
}
