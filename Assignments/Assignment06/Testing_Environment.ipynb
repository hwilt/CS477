{
 "cells": [
  {
   "cell_type": "code",
   "execution_count": 2,
   "id": "4837d425",
   "metadata": {},
   "outputs": [
    {
     "name": "stdout",
     "output_type": "stream",
     "text": [
      "The autoreload extension is already loaded. To reload it, use:\n",
      "  %reload_ext autoreload\n"
     ]
    }
   ],
   "source": [
    "%load_ext autoreload\n",
    "%autoreload 2\n",
    "import numpy as np\n",
    "import matplotlib.pyplot as plt\n",
    "import matplotlib.animation as animation\n",
    "import IPython.display as ipd\n",
    "from mlp import *\n",
    "from layers import *\n",
    "from losses import *"
   ]
  },
  {
   "cell_type": "code",
   "execution_count": 5,
   "id": "1518c6de",
   "metadata": {},
   "outputs": [
    {
     "name": "stdout",
     "output_type": "stream",
     "text": [
      "10\n",
      "9\n",
      "8\n",
      "7\n",
      "6\n",
      "5\n",
      "4\n",
      "3\n",
      "2\n",
      "1\n"
     ]
    }
   ],
   "source": [
    "layers = np.zeros(10)\n",
    "L = len(layers)\n",
    "\n",
    "for k in range(10, 0, -1):\n",
    "    print(k)\n",
    "    \n",
    "    "
   ]
  },
  {
   "cell_type": "code",
   "execution_count": 2,
   "id": "2d48bc43",
   "metadata": {},
   "outputs": [
    {
     "data": {
      "text/plain": [
       "(10,)"
      ]
     },
     "execution_count": 2,
     "metadata": {},
     "output_type": "execute_result"
    }
   ],
   "source": [
    "x = np.random.randn(10)\n",
    "x.shape\n",
    "y = x\n",
    "y.shape"
   ]
  },
  {
   "cell_type": "code",
   "execution_count": 3,
   "id": "db92c89f",
   "metadata": {},
   "outputs": [
    {
     "name": "stdout",
     "output_type": "stream",
     "text": [
      "[ 0.80044227 -0.91185674  0.71578946 -2.136732    0.71443319  0.36651277\n",
      "  1.81178206 -0.95788419  0.04824963 -0.47359816]\n"
     ]
    }
   ],
   "source": [
    "L = 5\n",
    "h = []\n",
    "x = np.random.randn(10)\n",
    "h = [0]*L\n",
    "h[0] = x\n",
    "\n",
    "print(h[0])"
   ]
  },
  {
   "cell_type": "code",
   "execution_count": 9,
   "id": "8e3b117a",
   "metadata": {
    "scrolled": true
   },
   "outputs": [
    {
     "name": "stdout",
     "output_type": "stream",
     "text": [
      "(1,)\n",
      "(7,)\n"
     ]
    }
   ],
   "source": [
    "model = MLP(10, logistic_loss_deriv)\n",
    "model.add_layer(20, leaky_relu, leaky_relu_deriv)\n",
    "model.add_layer(5, leaky_relu, leaky_relu_deriv, \"special_start\")\n",
    "model.add_layer(8, leaky_relu, leaky_relu_deriv)\n",
    "model.add_layer(7, leaky_relu, leaky_relu_deriv, \"special_end\")\n",
    "model.add_layer(1, leaky_relu, leaky_relu_deriv)\n",
    "x = np.random.randn(10)\n",
    "y = model.forward(x)\n",
    "print(y.shape)\n",
    "# Show how to start/end in the middle of the network\n",
    "x = np.random.randn(20)\n",
    "y = model.forward(x, start=\"special_start\", end=\"special_end\")\n",
    "print(y.shape)\n"
   ]
  },
  {
   "cell_type": "code",
   "execution_count": 16,
   "id": "063ea071",
   "metadata": {},
   "outputs": [
    {
     "name": "stdout",
     "output_type": "stream",
     "text": [
      "name\n"
     ]
    }
   ],
   "source": [
    "name = \"\"\n",
    "m = -1\n",
    "f = -1\n",
    "fderiv = -1\n",
    "_W = -1\n",
    "_b = -1\n",
    "\n",
    "\n",
    "layers = []\n",
    "\n",
    "layers.append({\"name\": name, \"m\": m, \"f\": f, \"fderiv\": fderiv, \"W\": _W, \"b\": _b})\n",
    "\n",
    "name, m, f, fderiv, w, b = layers[0]\n",
    "print(name)"
   ]
  }
 ],
 "metadata": {
  "kernelspec": {
   "display_name": "Python 3 (ipykernel)",
   "language": "python",
   "name": "python3"
  },
  "language_info": {
   "codemirror_mode": {
    "name": "ipython",
    "version": 3
   },
   "file_extension": ".py",
   "mimetype": "text/x-python",
   "name": "python",
   "nbconvert_exporter": "python",
   "pygments_lexer": "ipython3",
   "version": "3.10.4"
  }
 },
 "nbformat": 4,
 "nbformat_minor": 5
}
