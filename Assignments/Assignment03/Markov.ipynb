{
 "cells": [
  {
   "cell_type": "code",
   "execution_count": 2,
   "id": "9e585a3f",
   "metadata": {},
   "outputs": [],
   "source": [
    "%load_ext autoreload\n",
    "%autoreload 2\n",
    "from markov import *\n",
    "import matplotlib.pyplot as plt"
   ]
  },
  {
   "cell_type": "markdown",
   "id": "b513f74b",
   "metadata": {},
   "source": [
    "# Making of the add_string() method"
   ]
  },
  {
   "cell_type": "code",
   "execution_count": 41,
   "id": "297b2202",
   "metadata": {},
   "outputs": [
    {
     "name": "stdout",
     "output_type": "stream",
     "text": [
      "CS 47 {'7': 1}\n",
      "S 477 {' ': 1}\n",
      " 477  {'r': 1}\n",
      "477 r {'o': 1}\n",
      "77 ro {'c': 1}\n",
      "7 roc {'k': 1}\n",
      " rock {'s': 1}\n",
      "rocks {'C': 1}\n",
      "ocksC {'S': 1}\n",
      "cksCS {' ': 1}\n",
      "ksCS  {'4': 1}\n",
      "sCS 4 {'7': 1}\n",
      "This is a Markov model with prefix length 5.\n"
     ]
    }
   ],
   "source": [
    "model = MarkovModel(5)\n",
    "model.add_string(\"CS 477 rocks\")\n",
    "#model.get_prefixs()\n",
    "#model.get_prefix_count()\n",
    "print(model)"
   ]
  },
  {
   "cell_type": "markdown",
   "id": "cc03bae4",
   "metadata": {},
   "source": [
    "### Checking actual data"
   ]
  },
  {
   "cell_type": "code",
   "execution_count": 34,
   "id": "fb92c951",
   "metadata": {},
   "outputs": [
    {
     "name": "stdout",
     "output_type": "stream",
     "text": [
      "4032\n",
      "{'s': 4, 'm': 1, 't': 4, 'l': 1, 'j': 1, 'w': 1, 'a': 4, 'b': 1, 'h': 1, 'c': 4, 'k': 1, 'e': 1, 'g': 1}\n"
     ]
    }
   ],
   "source": [
    "model = MarkovModel(5)\n",
    "model.load_file_lines(\"text/spongebobquotes.txt\")\n",
    "print(model.get_prefix_count())\n",
    "print(model.get_prefix(' you '))\n",
    "#print(model)"
   ]
  },
  {
   "cell_type": "code",
   "execution_count": 14,
   "id": "ebd6b4fa",
   "metadata": {},
   "outputs": [
    {
     "data": {
      "text/plain": [
       "13"
      ]
     },
     "execution_count": 14,
     "metadata": {},
     "output_type": "execute_result"
    }
   ],
   "source": [
    "len(model.markov_dict[' you '])"
   ]
  },
  {
   "cell_type": "markdown",
   "id": "ebd3cdc4",
   "metadata": {},
   "source": [
    "`{'s': 4, 'm': 1, 't': 4, 'l': 1, 'j': 1, 'w': 1, 'a': 4, 'b': 1, 'h': 1, 'c': 4, 'k': 1, 'e': 1, 'g': 1}`\n",
    "\n",
    "Should have 4032 unique prefixs;\n",
    "\n",
    "`' you '` will have all the characters above in the dict"
   ]
  },
  {
   "cell_type": "markdown",
   "id": "2f10b83a",
   "metadata": {},
   "source": [
    "# Computing Probabilities (10 Pts)\n",
    "\n",
    "\"aaacbaaaacabacbbcabcccbccaaac\" <br>\n",
    "probablity of \"aacabaa\" = -3.91"
   ]
  },
  {
   "cell_type": "code",
   "execution_count": 9,
   "id": "8fb275e3",
   "metadata": {},
   "outputs": [
    {
     "name": "stdout",
     "output_type": "stream",
     "text": [
      "prefix: aac. character a. np: 3. npc: 2. curr prob: 0.5.\n",
      "prefix: aca. character b. np: 2. npc: 1. curr prob: 0.4.\n",
      "prefix: cab. character a. np: 2. npc: 1. curr prob: 0.4.\n",
      "prefix: aba. character a. np: 1. npc: 0. curr prob: 0.25.\n",
      "probablity: -3.91\n"
     ]
    }
   ],
   "source": [
    "m = MarkovModel(3)\n",
    "m.add_string(\"aaacbaaaacabacbbcabcccbccaaac\")\n",
    "#print(m)\n",
    "print(\"probablity: {:.2f}\".format(m.get_log_probability(\"aacabaa\", debug=True)))"
   ]
  },
  {
   "cell_type": "code",
   "execution_count": 10,
   "id": "c6c3a44d",
   "metadata": {},
   "outputs": [
    {
     "name": "stdout",
     "output_type": "stream",
     "text": [
      "probablity: -40.5\n"
     ]
    }
   ],
   "source": [
    "model = MarkovModel(6)\n",
    "model.load_file_lines(\"text/spongebobquotes.txt\")\n",
    "#print(model.get_unique_chars())\n",
    "print(\"probablity: {:.1f}\".format(model.get_log_probability(\"I'm ready, I'm ready\")))"
   ]
  },
  {
   "cell_type": "markdown",
   "id": "aa81ce81",
   "metadata": {},
   "source": [
    "probablity should be \"-40.5\""
   ]
  },
  {
   "cell_type": "code",
   "execution_count": 11,
   "id": "6d56202d",
   "metadata": {},
   "outputs": [
    {
     "name": "stdout",
     "output_type": "stream",
     "text": [
      "probablity: -69.6\n"
     ]
    }
   ],
   "source": [
    "print(\"probablity: {:.1f}\".format(model.get_log_probability(\"Artificial intelligence\")))"
   ]
  },
  {
   "cell_type": "markdown",
   "id": "2905d5a5",
   "metadata": {},
   "source": [
    "probablity should be \"-69.6\""
   ]
  },
  {
   "cell_type": "markdown",
   "id": "e5a5a1bf",
   "metadata": {},
   "source": [
    "# 2016 US Presidental Debate (10 Pts)"
   ]
  },
  {
   "cell_type": "markdown",
   "id": "9e5f0d7c",
   "metadata": {},
   "source": [
    "### Training Models"
   ]
  },
  {
   "cell_type": "code",
   "execution_count": 3,
   "id": "079eab41",
   "metadata": {},
   "outputs": [],
   "source": [
    "def create_models(K=5):\n",
    "    trump = MarkovModel(K)\n",
    "    trump.load_file(\"text/2016Debates/trump1.txt\")\n",
    "    trump.load_file(\"text/2016Debates/trump2.txt\")\n",
    "    clinton = MarkovModel(K)\n",
    "    clinton.load_file(\"text/2016Debates/clinton1.txt\")\n",
    "    clinton.load_file(\"text/2016Debates/clinton2.txt\")\n",
    "    return trump, clinton"
   ]
  },
  {
   "cell_type": "markdown",
   "id": "c8fca6e8",
   "metadata": {},
   "source": [
    "## Task 1: Classification for a fixed K (5 Points)\n"
   ]
  },
  {
   "cell_type": "code",
   "execution_count": 22,
   "id": "8ef74814",
   "metadata": {},
   "outputs": [
    {
     "name": "stdout",
     "output_type": "stream",
     "text": [
      "#Guessed that trump said it. #Guessed that Clinton said it\n",
      "Quote from trump: 126. 4\n",
      "Quote from clinton: 4. 99\n"
     ]
    },
    {
     "data": {
      "text/plain": [
       "({'trump': [126, 4], 'clinton': [4, 99]},\n",
       " {'trump': [[3,\n",
       "    'Well, if that would happen, because I am pro-life and I will be appointing pro-life judges, I would think that would go back to the individual states.\\n\\nIf they overturned it, it would go back to the states.\\n\\nIf we put another two or perhaps three justices on, that is really what will happen. That will happen automatically in my opinion. Because I am putting pro-life justices on the court. I will say this. It will go back to the states and the states will then make a determination.\\n\\n'],\n",
       "   [3,\n",
       "    'Well, if that would happen, because I am pro-life and I will be appointing pro-life judges, I would think that would go back to the individual states.\\n\\nIf they overturned it, it would go back to the states.\\n\\nIf we put another two or perhaps three justices on, that is really what will happen. That will happen automatically in my opinion. Because I am putting pro-life justices on the court. I will say this. It will go back to the states and the states will then make a determination.\\n\\n'],\n",
       "   [3,\n",
       "    'Well, if that would happen, because I am pro-life and I will be appointing pro-life judges, I would think that would go back to the individual states.\\n\\nIf they overturned it, it would go back to the states.\\n\\nIf we put another two or perhaps three justices on, that is really what will happen. That will happen automatically in my opinion. Because I am putting pro-life justices on the court. I will say this. It will go back to the states and the states will then make a determination.\\n\\n'],\n",
       "   [3,\n",
       "    'Well, if that would happen, because I am pro-life and I will be appointing pro-life judges, I would think that would go back to the individual states.\\n\\nIf they overturned it, it would go back to the states.\\n\\nIf we put another two or perhaps three justices on, that is really what will happen. That will happen automatically in my opinion. Because I am putting pro-life justices on the court. I will say this. It will go back to the states and the states will then make a determination.\\n\\n']],\n",
       "  'clinton': [[19,\n",
       "    \"And on the day when I was in the situation room monitoring the raid that brought Osama bin laden to justice, he was hosting The Celebrity Apprentice. So I’m happy to compare my 30 years of experience, what I’ve done for this country, trying to help in every way I could, especially kids and families, get ahead and stay ahead, with your thirty years and I'll let the American people make that decision.\\n\\n\"],\n",
       "   [19,\n",
       "    \"And on the day when I was in the situation room monitoring the raid that brought Osama bin laden to justice, he was hosting The Celebrity Apprentice. So I’m happy to compare my 30 years of experience, what I’ve done for this country, trying to help in every way I could, especially kids and families, get ahead and stay ahead, with your thirty years and I'll let the American people make that decision.\\n\\n\"],\n",
       "   [31,\n",
       "    'And you can hear the audio of him saying that. Why does that matter? Well, it matters because he has not told the truth about that position. I guess he believes it makes him look better to contrast with me because I did vote for it. But what\\'s really important here is to understand all the interplay. Mosul is a Sunni city. Mosul is on the border of Syria, and yes, we do need to go after Baghdadi, just like we went after Bin Laden while you were doing \"Celebrity apprentice\" and we brought him to justice. We need to go after the leadership, but we need to get rid of them, get rid of their fighters. There are several thousand fighters in Mosul. They’ve been digging underground. They’ve been prepared to defend. It\\'s going to be tough fighting, but I think we can take back Mosul and then we can move on into Syria and take back Raqqa.\\n\\n'],\n",
       "   [31,\n",
       "    'And you can hear the audio of him saying that. Why does that matter? Well, it matters because he has not told the truth about that position. I guess he believes it makes him look better to contrast with me because I did vote for it. But what\\'s really important here is to understand all the interplay. Mosul is a Sunni city. Mosul is on the border of Syria, and yes, we do need to go after Baghdadi, just like we went after Bin Laden while you were doing \"Celebrity apprentice\" and we brought him to justice. We need to go after the leadership, but we need to get rid of them, get rid of their fighters. There are several thousand fighters in Mosul. They’ve been digging underground. They’ve been prepared to defend. It\\'s going to be tough fighting, but I think we can take back Mosul and then we can move on into Syria and take back Raqqa.\\n\\n']]})"
      ]
     },
     "execution_count": 22,
     "metadata": {},
     "output_type": "execute_result"
    }
   ],
   "source": [
    "def classification(trump, clinton, N=40, debug=False):\n",
    "    matrix = dict()\n",
    "    incorrect_classification = {\"trump\": [], \"clinton\": []}\n",
    "    like_trump = 0\n",
    "    like_clinton = 0\n",
    "    if debug:\n",
    "        print(\"#Guessed that trump said it. #Guessed that Clinton said it\")\n",
    "    for speaker in [\"trump\", \"clinton\"]:\n",
    "        for i in range(N):\n",
    "            fin = open(\"text/2016Debates/{}3-{:02d}.txt\".format(speaker, i), encoding=\"utf8\")\n",
    "            s = fin.read() # This holds the text as a string\n",
    "            fin.close()\n",
    "            for quote in s.split('\\n\\n'):\n",
    "                trump_prob = trump.get_log_probability(s)\n",
    "                clinton_prob = clinton.get_log_probability(s)\n",
    "                if trump_prob > clinton_prob:\n",
    "                    like_trump += 1\n",
    "                    if speaker == \"clinton\":\n",
    "                        incorrect_classification[speaker].append([i, s])\n",
    "                else:\n",
    "                    like_clinton += 1\n",
    "                    if speaker == \"trump\":\n",
    "                        incorrect_classification[speaker].append([i, s])\n",
    "        matrix[speaker] = [like_trump, like_clinton]\n",
    "        if debug:\n",
    "            print(\"Quote from {}: {}. {}\".format(speaker, like_trump, like_clinton))\n",
    "        like_trump = 0\n",
    "        like_clinton = 0\n",
    "    return matrix, incorrect_classification\n",
    "        \n",
    "trump, clinton = create_models(5)\n",
    "classification(trump,clinton,debug=True)"
   ]
  },
  {
   "cell_type": "markdown",
   "id": "56880ebe",
   "metadata": {
    "collapsed": true
   },
   "source": [
    "## Task 2: Hyperparameter Optimization (3 Points)"
   ]
  },
  {
   "cell_type": "code",
   "execution_count": 23,
   "id": "5b4da350",
   "metadata": {},
   "outputs": [],
   "source": [
    "result = dict()\n",
    "incorrect_classification = dict()\n",
    "for k in range(1,21):\n",
    "    trump, clinton = create_models(k)\n",
    "    result[k], incorrect_classification[k] = classification(trump, clinton)\n",
    "    #print(result[k])"
   ]
  },
  {
   "cell_type": "code",
   "execution_count": 24,
   "id": "a6fdc955",
   "metadata": {},
   "outputs": [
    {
     "data": {
      "image/png": "[encoded data removed]",
      "text/plain": [
       "<Figure size 640x480 with 1 Axes>"
      ]
     },
     "metadata": {},
     "output_type": "display_data"
    }
   ],
   "source": [
    "#print(np.zeros(20))    \n",
    "    \n",
    "x_trump = []\n",
    "y_clinton = []\n",
    "for result in result.values():\n",
    "    #print(result[\"trump\"][0])\n",
    "    x_trump.append(result[\"trump\"][0])\n",
    "    y_clinton.append(result[\"clinton\"][1])\n",
    "    \n",
    "#print(x_trump)\n",
    "#print(y_clinton)\n",
    "plt.plot(x_trump)\n",
    "plt.plot(y_clinton)\n",
    "plt.legend([\"Trump Accuracy\", \"Clinton Accuracy\"])\n",
    "plt.show()"
   ]
  },
  {
   "cell_type": "markdown",
   "id": "b5126462",
   "metadata": {},
   "source": [
    "**What trends do you notice in the plot?**<br>\n",
    "After $K=7$, trump's accuracy drops from high 30s and linearally goes down until $K=20$\n",
    "After $K=5$, clinton's accuracy goes to $100$% where the model gets it right all the time\n",
    "\n",
    "**Given what you know about these models, can you explain these trends?**<br>\n"
   ]
  },
  {
   "cell_type": "markdown",
   "id": "510e63da",
   "metadata": {},
   "source": [
    "## Task 3: Explainability (3 Points)"
   ]
  },
  {
   "cell_type": "code",
   "execution_count": 19,
   "id": "5429b33a",
   "metadata": {
    "scrolled": true
   },
   "outputs": [
    {
     "name": "stdout",
     "output_type": "stream",
     "text": [
      "{'trump': [39, 1], 'clinton': [0, 40]}\n",
      "{'trump': [[3, 'Well, if that would happen, because I am pro-life and I will be appointing pro-life judges, I would think that would go back to the individual states.\\n\\nIf they overturned it, it would go back to the states.\\n\\nIf we put another two or perhaps three justices on, that is really what will happen. That will happen automatically in my opinion. Because I am putting pro-life justices on the court. I will say this. It will go back to the states and the states will then make a determination.\\n\\n']], 'clinton': []}\n"
     ]
    }
   ],
   "source": [
    "print(result[7])\n",
    "print(incorrect_classification[7])"
   ]
  },
  {
   "cell_type": "markdown",
   "id": "6af3bea1",
   "metadata": {},
   "source": [
    "$K=7$ I found is the best value for K as it only gets one incorrect classification with classifying trump's quote as coming from clinton. Which is pretty good. I don't really understand why this quote is classified wrong as we know that clinton would "
   ]
  },
  {
   "cell_type": "markdown",
   "id": "c1dd7b27",
   "metadata": {},
   "source": [
    "## Task 4: Most Prominent Differences (5 Points)"
   ]
  },
  {
   "cell_type": "code",
   "execution_count": null,
   "id": "201b348c",
   "metadata": {},
   "outputs": [],
   "source": []
  }
 ],
 "metadata": {
  "kernelspec": {
   "display_name": "Python 3 (ipykernel)",
   "language": "python",
   "name": "python3"
  },
  "language_info": {
   "codemirror_mode": {
    "name": "ipython",
    "version": 3
   },
   "file_extension": ".py",
   "mimetype": "text/x-python",
   "name": "python",
   "nbconvert_exporter": "python",
   "pygments_lexer": "ipython3",
   "version": "3.10.4"
  }
 },
 "nbformat": 4,
 "nbformat_minor": 5
}
