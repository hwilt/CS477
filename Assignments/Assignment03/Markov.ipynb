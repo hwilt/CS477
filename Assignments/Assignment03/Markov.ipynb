{
 "cells": [
  {
   "cell_type": "code",
   "execution_count": 1,
   "id": "9e585a3f",
   "metadata": {},
   "outputs": [],
   "source": [
    "%load_ext autoreload\n",
    "%autoreload 2\n",
    "from markov import *\n",
    "import matplotlib.pyplot as plt"
   ]
  },
  {
   "cell_type": "markdown",
   "id": "b513f74b",
   "metadata": {},
   "source": [
    "# Making of the add_string() method"
   ]
  },
  {
   "cell_type": "code",
   "execution_count": 41,
   "id": "297b2202",
   "metadata": {},
   "outputs": [
    {
     "name": "stdout",
     "output_type": "stream",
     "text": [
      "CS 47 {'7': 1}\n",
      "S 477 {' ': 1}\n",
      " 477  {'r': 1}\n",
      "477 r {'o': 1}\n",
      "77 ro {'c': 1}\n",
      "7 roc {'k': 1}\n",
      " rock {'s': 1}\n",
      "rocks {'C': 1}\n",
      "ocksC {'S': 1}\n",
      "cksCS {' ': 1}\n",
      "ksCS  {'4': 1}\n",
      "sCS 4 {'7': 1}\n",
      "This is a Markov model with prefix length 5.\n"
     ]
    }
   ],
   "source": [
    "model = MarkovModel(5)\n",
    "model.add_string(\"CS 477 rocks\")\n",
    "#model.get_prefixs()\n",
    "#model.get_prefix_count()\n",
    "print(model)"
   ]
  },
  {
   "cell_type": "markdown",
   "id": "cc03bae4",
   "metadata": {},
   "source": [
    "### Checking actual data"
   ]
  },
  {
   "cell_type": "code",
   "execution_count": 34,
   "id": "fb92c951",
   "metadata": {},
   "outputs": [
    {
     "name": "stdout",
     "output_type": "stream",
     "text": [
      "4032\n",
      "{'s': 4, 'm': 1, 't': 4, 'l': 1, 'j': 1, 'w': 1, 'a': 4, 'b': 1, 'h': 1, 'c': 4, 'k': 1, 'e': 1, 'g': 1}\n"
     ]
    }
   ],
   "source": [
    "model = MarkovModel(5)\n",
    "model.load_file_lines(\"text/spongebobquotes.txt\")\n",
    "print(model.get_prefix_count())\n",
    "print(model.get_prefix(' you '))\n",
    "#print(model)"
   ]
  },
  {
   "cell_type": "code",
   "execution_count": 14,
   "id": "ebd6b4fa",
   "metadata": {},
   "outputs": [
    {
     "data": {
      "text/plain": [
       "13"
      ]
     },
     "execution_count": 14,
     "metadata": {},
     "output_type": "execute_result"
    }
   ],
   "source": [
    "len(model.markov_dict[' you '])"
   ]
  },
  {
   "cell_type": "markdown",
   "id": "ebd3cdc4",
   "metadata": {},
   "source": [
    "`{'s': 4, 'm': 1, 't': 4, 'l': 1, 'j': 1, 'w': 1, 'a': 4, 'b': 1, 'h': 1, 'c': 4, 'k': 1, 'e': 1, 'g': 1}`\n",
    "\n",
    "Should have 4032 unique prefixs;\n",
    "\n",
    "`' you '` will have all the characters above in the dict"
   ]
  },
  {
   "cell_type": "markdown",
   "id": "2f10b83a",
   "metadata": {},
   "source": [
    "# Computing Probabilities (10 Pts)\n",
    "\n",
    "\"aaacbaaaacabacbbcabcccbccaaac\" <br>\n",
    "probablity of \"aacabaa\" = -3.91"
   ]
  },
  {
   "cell_type": "code",
   "execution_count": 9,
   "id": "8fb275e3",
   "metadata": {},
   "outputs": [
    {
     "name": "stdout",
     "output_type": "stream",
     "text": [
      "prefix: aac. character a. np: 3. npc: 2. curr prob: 0.5.\n",
      "prefix: aca. character b. np: 2. npc: 1. curr prob: 0.4.\n",
      "prefix: cab. character a. np: 2. npc: 1. curr prob: 0.4.\n",
      "prefix: aba. character a. np: 1. npc: 0. curr prob: 0.25.\n",
      "probablity: -3.91\n"
     ]
    }
   ],
   "source": [
    "m = MarkovModel(3)\n",
    "m.add_string(\"aaacbaaaacabacbbcabcccbccaaac\")\n",
    "#print(m)\n",
    "print(\"probablity: {:.2f}\".format(m.get_log_probability(\"aacabaa\", debug=True)))"
   ]
  },
  {
   "cell_type": "code",
   "execution_count": 10,
   "id": "c6c3a44d",
   "metadata": {},
   "outputs": [
    {
     "name": "stdout",
     "output_type": "stream",
     "text": [
      "probablity: -40.5\n"
     ]
    }
   ],
   "source": [
    "model = MarkovModel(6)\n",
    "model.load_file_lines(\"text/spongebobquotes.txt\")\n",
    "#print(model.get_unique_chars())\n",
    "print(\"probablity: {:.1f}\".format(model.get_log_probability(\"I'm ready, I'm ready\")))"
   ]
  },
  {
   "cell_type": "markdown",
   "id": "aa81ce81",
   "metadata": {},
   "source": [
    "probablity should be \"-40.5\""
   ]
  },
  {
   "cell_type": "code",
   "execution_count": 11,
   "id": "6d56202d",
   "metadata": {},
   "outputs": [
    {
     "name": "stdout",
     "output_type": "stream",
     "text": [
      "probablity: -69.6\n"
     ]
    }
   ],
   "source": [
    "print(\"probablity: {:.1f}\".format(model.get_log_probability(\"Artificial intelligence\")))"
   ]
  },
  {
   "cell_type": "markdown",
   "id": "2905d5a5",
   "metadata": {},
   "source": [
    "probablity should be \"-69.6\""
   ]
  },
  {
   "cell_type": "markdown",
   "id": "e5a5a1bf",
   "metadata": {},
   "source": [
    "# 2016 US Presidental Debate (10 Pts)"
   ]
  },
  {
   "cell_type": "markdown",
   "id": "9e5f0d7c",
   "metadata": {},
   "source": [
    "### Training Models"
   ]
  },
  {
   "cell_type": "code",
   "execution_count": 2,
   "id": "079eab41",
   "metadata": {},
   "outputs": [],
   "source": [
    "def create_models(K=5):\n",
    "    trump = MarkovModel(K)\n",
    "    trump.load_file(\"text/2016Debates/trump1.txt\")\n",
    "    trump.load_file(\"text/2016Debates/trump2.txt\")\n",
    "    clinton = MarkovModel(K)\n",
    "    clinton.load_file(\"text/2016Debates/clinton1.txt\")\n",
    "    clinton.load_file(\"text/2016Debates/clinton2.txt\")\n",
    "    return trump, clinton"
   ]
  },
  {
   "cell_type": "markdown",
   "id": "c8fca6e8",
   "metadata": {},
   "source": [
    "## Task 1: Classification for a fixed K (5 Points)\n"
   ]
  },
  {
   "cell_type": "code",
   "execution_count": 118,
   "id": "8ef74814",
   "metadata": {},
   "outputs": [
    {
     "name": "stdout",
     "output_type": "stream",
     "text": [
      "#Guessed that trump said it. #Guessed that Clinton said it\n",
      "Quote from trump: 39. 1\n",
      "Quote from clinton: 2. 38\n"
     ]
    }
   ],
   "source": [
    "def classification(trump, clinton, N=40, debug=False):\n",
    "    matrix = dict()\n",
    "    incorrect_classification = {\"trump\": [], \"clinton\": []}\n",
    "    correct_classification = {\"trump\": [], \"clinton\": []}\n",
    "    like_trump = 0\n",
    "    like_clinton = 0\n",
    "    if debug:\n",
    "        print(\"#Guessed that trump said it. #Guessed that Clinton said it\")\n",
    "    for speaker in [\"trump\", \"clinton\"]:\n",
    "        for i in range(N):\n",
    "            fin = open(\"text/2016Debates/{}3-{:02d}.txt\".format(speaker, i), encoding=\"utf8\")\n",
    "            s = fin.read() # This holds the text as a string\n",
    "            fin.close()\n",
    "            trump_prob = trump.get_log_probability(s)\n",
    "            clinton_prob = clinton.get_log_probability(s)\n",
    "            if trump_prob > clinton_prob:\n",
    "                like_trump += 1\n",
    "                if speaker == \"clinton\":\n",
    "                    incorrect_classification[speaker].append([i, s, clinton_prob, trump_prob])\n",
    "                else:\n",
    "                    correct_classification[speaker].append([i, s, clinton_prob, trump_prob])\n",
    "            else:\n",
    "                like_clinton += 1\n",
    "                if speaker == \"trump\":\n",
    "                    incorrect_classification[speaker].append([i, s, clinton_prob, trump_prob])\n",
    "                else:\n",
    "                    correct_classification[speaker].append([i, s, clinton_prob, trump_prob])\n",
    "        matrix[speaker] = [like_trump, like_clinton]\n",
    "        if debug:\n",
    "            print(\"Quote from {}: {}. {}\".format(speaker, like_trump, like_clinton))\n",
    "        like_trump = 0\n",
    "        like_clinton = 0\n",
    "    return matrix, incorrect_classification, correct_classification\n",
    "        \n",
    "trump, clinton = create_models(5)\n",
    "matrix, incorrect_classification, correct_classification = classification(trump,clinton,debug=True)"
   ]
  },
  {
   "cell_type": "markdown",
   "id": "56880ebe",
   "metadata": {
    "collapsed": true
   },
   "source": [
    "## Task 2: Hyperparameter Optimization (3 Points)"
   ]
  },
  {
   "cell_type": "code",
   "execution_count": 119,
   "id": "5b4da350",
   "metadata": {},
   "outputs": [],
   "source": [
    "result = dict()\n",
    "incorrect_classification = dict()\n",
    "correct_classification = dict()\n",
    "for k in range(1,21):\n",
    "    trump, clinton = create_models(k)\n",
    "    result[k], incorrect_classification[k], correct_classification[k] = classification(trump, clinton)\n",
    "    #print(result[k])"
   ]
  },
  {
   "cell_type": "code",
   "execution_count": 120,
   "id": "a6fdc955",
   "metadata": {},
   "outputs": [
    {
     "data": {
      "image/png": "[encoded data removed]",
      "text/plain": [
       "<Figure size 640x480 with 1 Axes>"
      ]
     },
     "metadata": {},
     "output_type": "display_data"
    }
   ],
   "source": [
    "#print(np.zeros(20))    \n",
    "    \n",
    "x_trump = []\n",
    "y_clinton = []\n",
    "#print(result)\n",
    "trump_total = result[1][\"trump\"][0] + result[1][\"trump\"][1]\n",
    "clinton_total = result[1][\"clinton\"][0] + result[1][\"clinton\"][1]\n",
    "for res in result.values():\n",
    "    #print(result[\"trump\"][0])\n",
    "    x_trump.append((res[\"trump\"][0]/trump_total)*100)\n",
    "    y_clinton.append((res[\"clinton\"][1]/clinton_total)*100)\n",
    "    \n",
    "#print(x_trump)\n",
    "#print(y_clinton)\n",
    "plt.plot(x_trump)\n",
    "plt.plot(y_clinton)\n",
    "plt.legend([\"Trump Accuracy\", \"Clinton Accuracy\"])\n",
    "plt.show()"
   ]
  },
  {
   "cell_type": "markdown",
   "id": "b5126462",
   "metadata": {},
   "source": [
    "**What trends do you notice in the plot?**<br>\n",
    "After $K=7$, trump's accuracy drops from high 30s and linearally goes down until $K=20$\n",
    "After $K=5$, clinton's accuracy goes to $100$% where the model gets it right all the time\n",
    "\n",
    "**Given what you know about these models, can you explain these trends?**<br>\n",
    "I have no idea why this happens"
   ]
  },
  {
   "cell_type": "markdown",
   "id": "510e63da",
   "metadata": {},
   "source": [
    "## Task 3: Explainability (3 Points)"
   ]
  },
  {
   "cell_type": "code",
   "execution_count": 121,
   "id": "5429b33a",
   "metadata": {
    "scrolled": true
   },
   "outputs": [
    {
     "name": "stdout",
     "output_type": "stream",
     "text": [
      "\n",
      "trump quotes that the model got incorrect:\n",
      "\n",
      "- Well, if that would happen, because I am pro-life and I will be appointing pro-life judges, I would think that would go back to the individual states.\n",
      "\n",
      "If they overturned it, it would go back to the states.\n",
      "\n",
      "If we put another two or perhaps three justices on, that is really what will happen. That will happen automatically in my opinion. Because I am putting pro-life justices on the court. I will say this. It will go back to the states and the states will then make a determination.\n",
      "\n",
      "\n",
      "\n",
      "clinton quotes that the model got incorrect:\n",
      "\n"
     ]
    }
   ],
   "source": [
    "#print(result[7])\n",
    "#print(incorrect_classification[7])\n",
    "for speaker in [\"trump\", \"clinton\"]:\n",
    "    print(\"\\n{} quotes that the model got incorrect:\".format(speaker), end='\\n\\n')\n",
    "    for quote in incorrect_classification[7][speaker]:\n",
    "        print(\"- {}\".format(quote[1]))"
   ]
  },
  {
   "cell_type": "markdown",
   "id": "6af3bea1",
   "metadata": {},
   "source": [
    "$K=7$ I found is the best value for K as it only gets one incorrect classification with classifying trump's quote as coming from clinton. Which is pretty good. I don't really understand why this quote is classified wrong as we know that clinton's stance on abortion I don't believe was pro-life"
   ]
  },
  {
   "cell_type": "markdown",
   "id": "c1dd7b27",
   "metadata": {},
   "source": [
    "## Task 4: Most Prominent Differences (5 Points)"
   ]
  },
  {
   "cell_type": "code",
   "execution_count": 122,
   "id": "201b348c",
   "metadata": {},
   "outputs": [
    {
     "name": "stdout",
     "output_type": "stream",
     "text": [
      "Abs_diff: 0.47108702231382793. \n",
      "Quote: Look. She's been proven to be a liar on so many different ways. This is just another lie.\n",
      "\n",
      "And defend yourselves. And defend yourselves. I didn't say -- and defend yourself.\n",
      "\n",
      "Well, first of all, before I start on my plan, her plan is going to raise taxes and even double your taxes. Her tax plan is a disaster. And she can say all she wants about college tuition. And I'm a big proponent. We're going to do a lot of things for college tuition but the rest the public is going to be paying for it. We will have a massive, massive tax increase under Hillary Clinton's plan. But I would like to start off where we left. Because when I said Japan and Germany and I'm not just singling them out. But South Korea, these are very rich countries. Saudi Arabia. Nothing but money. We protect Saudi Arabia. Why aren't they paying? She immediately, when she heard this, I questioned it, and I questioned NATO, why aren’t they NATO questioned? Why aren't they paying? Because they weren’t paying. Since I did this, this was a year ago. All of a sudden they're paying. And I've been given a lot of credit for it. All of a sudden, they're starting to pay up. They have to pay up. We're protecting people. They have to pay up. And I'm a big fan of NATO but they have to pay up. She comes out and says “we love our allies. We think our allies are great.” Well, it is awfully hard to get them to pay up when you have somebody saying we think how great they are. We have to tell Japan in a very nice way, we have to tell Germany, all of these countries, South Korea. We have to say, you have to help us out. We have, during his regime, during President Obama's regime, we've doubled our national debt. We're up to $20 trillion. So my plan, we’re going to negotiate trade deals. We’re going to have a lot of free trade. More free trade than we have right now. But we have horrible deals. Our jobs are being taken out by the deal that her husband signed. NAFTA. One of the worst deals ever. The jobs are being sucked out of our economy. You look at the places I just left. You go to Pennsylvania, you go to Ohio, you go to Florida, you go to any of them. You go to upstate New York. Our jobs have fled to Mexico and other places. We're bringing our jobs back. I'm going to renegotiate NAFTA. And if I can't make a great deal, then we're going to terminate NAFTA and we’re going to create new deals. We're going to have trade but we're going to terminate it. We're going on make a great trade deal. If we can't, we're going to go our separate way because it has been a disaster. We're going to cut taxes massively. We're going to cut business taxes massively. They're going to start hiring people we're going to bring the $2.5 trillion that’s offshore back into the country. We are going to start the engine rolling again because right now, our country is dying. At 1% GDP.\n",
      "\n",
      "\n",
      "Abs_diff: 0.3743973255571449. \n",
      "Quote: Thank you very much Chris and thanks to UNLV for hosting us. You know, I think when we talk about the Supreme Court, it really raises the central issue in this election. Namely, what kind of country are we going to be? What kind of opportunities will we provide for our citizens? What kind of rights will Americans have? And I feel strongly that the Supreme Court needs to stand on the side of the American people. Not on the side of the powerful corporations and the wealthy. For me, that means that we need a Supreme Court that will stand up on behalf of women's rights, on behalf of the rights of the LGBT community, that will stand up and say no to Citizens United, a decision that has undermined the election system in our country because of the way it permits dark, unaccountable money to come into our electoral system. I have major disagreements with my opponent about these issues and others that will be before the Supreme Court. But I feel that at this point in our country's history, it is important that we not reverse marriage equality, that we not reverse Roe v. Wade, that we stand up against Citizens United, we stand up for the rights of people in the workplace, that we stand up and basically say, the Supreme Court should represent all of us. That's how I see the court. And the kind of people that I would be looking to nominate to the court would be in the great tradition of standing up to the powerful, standing up on behalf of our rights as Americans. And I look forward to having that opportunity. I would hope that the Senate would do its job and confirm the nominee that President Obama has sent to them. That's the way the constitution fundamentally should operate. The President nominates and the Senate advises and consents or not. But they go forward with the process.\n",
      "\n",
      "\n",
      "Abs_diff: 0.36905793033911394. \n",
      "Quote: Well I think the middle class thrives, America thrives. So my plan is based on growing the economy, giving middle class families many more opportunities. I want us to have the biggest jobs program since World War II. Jobs in infrastructure and advanced manufacturing. I think we can compete with high wage countries and I believe we should. New jobs in clean energy. Not only to fight climate change, which is a serious problem but to create new opportunities and new businesses. I want us to do more to help small business, that’s where two-thirds of the new jobs are going to come from. I want to us raise the national minimum wage because people who work full time should not still be in poverty. And I sure do want to make sure women get equal pay for the work we do. I feel strongly that we have to have an education system that starts with preschool and goes through college. That’s why I want more technical education and community colleges, real apprenticeships to prepare young peel for the jobs of the future. I want to make college debt-free and for families making less than $125,000, you will not get a tuition bill from a public college or a university if the plan that I worked on with Bernie Sanders is enacted. And we're going to work hard to make sure that it is. Because we are going to go where the money is. Most of the gains in the last years since the great recession have gone to the very top. So we are going to have the wealthy pay their fair share. We're going to have corporations make a contribution greater than they are now to our country. That is a plan that has been analyzed by independent experts which said that it could produce 10 million new jobs. By contrast, Donald's plan has been analyzed to conclude it might lose 3.5 million jobs. Why? Because his whole plan is to cut taxes. To give the biggest tax breaks ever to the wealthy and to corporations. Adding $20 trillion to our debt and causing the kind of dislocation that we have seen before. Because it truly will be trickle down economics on steroids. So the plan I have I think will actually produce greater opportunities. The plan he has will cost us jobs and possibly lead to another great recession.\n",
      "\n",
      "\n",
      "Abs_diff: 0.3059216124157471. \n",
      "Quote: It just shows you're not up to doing the job. And let's be clear about what he's saying and what that means. He's denigrating, he is talking down our democracy. And I, for one, am appalled that somebody who is the nominee of one of our two major parties would take that kind of position.\n",
      "\n",
      "Well, I am encouraged there is an effort led by the Iraqi Army, supported by Kurdish forces and also given the help and advice from the number of special forces and other Americans on the ground, but I will not support putting American soldiers into Iraq as an occupying force. I don't think that is in our interest, and I don't think that would be smart to do. In fact, Chris, I think that would be a big red flag waving for ISIS to reconstitute itself. The goal here is to take back Mosul. It's going to be a hard fight. I've got no illusions about that. And then continue to press into Syria to begin to take back and move on Raqqa, which is the ISIS headquarters. I am hopeful that the hard work that American military advisers have done will pay off and that we will see a really successful military operation. But we know we've got lots of work to do. Syria will remain a hotbed of terrorism as long as the civil war aided and abetted by the Iranians and the Russians continue, so I have said, look, we need to keep our eye on ISIS. That's why I want to have an intelligence surge that protects us here at home, why we have to go after them from the air, on the ground, online, why we have to make sure here at home we don't let terrorists buy weapons. If you're too dangerous to fly, you're too dangerous to buy a gun. And I'm going to continue to push for a no-fly zone and safe havens within Syria, not only to help protect the Syrians and prevent the constant outflow of refugees, but to frankly gain some leverage on both the Syrian government and the Russians so that perhaps we can have the kind of serious negotiation necessary to bring the conflict to an end and go forward on a political track.\n",
      "\n",
      "\n",
      "Abs_diff: 0.2780990364332645. \n",
      "Quote: They're coming in illegally. Drugs are pouring in through the border. We have no country if we have no border. Hillary wants to give amnesty. She wants to have open borders. As you know, the border patrol agents, 16,500 plus I.C.E. last week endorsed me. First time they've endorsed a candidate. It means their job is tougher. But they know what’s going on. They know it better than anybody. They want strong borders. They feel we have to have strong borders. I was up in New Hampshire the other day. The biggest complaint they have, it’s with all the problems going on in the world, many of the problems caused by Hillary Clinton and Barack Obama. All of the problems. The single biggest problem is heroin that pours across our southern borders. Just pouring and destroying their youth It is poisoning the blood of their youth and plenty of other people. We have to have strong borders. We have to keep the drugs out of our country. Right now, we're getting the drugs, they're getting the cash. We need strong borders. We need absolute, we cannot give amnesty. Now, I want to build the wall. We need the wall. The border patrol, I.C.E., they all want the wall. We stop the drugs; we shore up the border. One of my first acts will be to get all of the drug lords, all of the bad ones, we have some bad, bad people in this country that have to go out. We're going to get them out. We're going to secure the border. And once the border is secured, at a later date, we'll make a determination as to the rest. But we have some bad hombres here and we're going to get them out.\n",
      "\n",
      "\n",
      "Abs_diff: 0.2752432799657458. \n",
      "Quote: But if you look at the debt, which is the issue you asked about, Chris, I pay for everything I'm proposing. I do not add a penny to the national debt. I take that very seriously because I do think it's one of the issues we've got to come to grips with. So when I talk about how we're going to pay for education, how we're going to invest in infrastructure, how we're going to get the cost of prescription drugs down, and a lot of the other issues that people talk to me about all the time, I've made it very clear, we are going where the money is. We are going to ask the wealthy and corporations to pay their fair share. And there is no evidence whatsoever that that will slow down or diminish our growth. In fact, I think just the opposite. We'll have what economists call middle outgrowth. We've got to get back to rebuilding the middle class. The families of America. That's where growth will come from. That's why I want to invest in you. I want to invest in your family. And I think that's the smartest way to grow the economy, to make the economy fairer. And we just have a big disagreement about this. It may be because of our experiences. You know he started off with his dad as a millionaire. I started off with my dad as a small businessman.\n",
      "\n",
      "\n",
      "Abs_diff: 0.2495345663943338. \n",
      "Quote: You can't.\n",
      "\n",
      "Correct.\n",
      "\n",
      "Over a 10-year period.\n",
      "\n",
      "So I just left some high representatives of India. They're growing at 8%. China is growing at 7%. And that for them is a catastrophically low number. We are growing our last report came out, and it is right around the 1% level. And I think it’s going down. Last week as you know, the end of last week, they came out with an anemic jobs report. A terrible jobs report. In fact, I said is that the last jobs report before the election? Because if it is, I should win easily because it was so bad. The report was so bad. Look, our country is stagnant. We've lost our jobs, we've lost our businesses. We're not making things anymore, relatively speaking. Our product is pouring in from China, pouring in from Vietnam, pouring in from all over the world. I've visited so many communities. This has been such an incredible education for me, Chris. I've gotten to know so many, I’ve developed so many friends over the last year. And they cry when they see what has happened. I pass factories that were thriving, 20, 25 years ago and because of the bill her husband signed and that she blessed 100%. It is just horrible what has happened to these people in these communities. Now, she can say her husband did well but boy, did they suffer as NAFTA kicked in because it didn't really kick in very much. But it kicked in after they left. Boy, did they suffer. That was one of the worst things that has ever been signed by our country. Now she wants to sign Trans-Pacific Partnership. And she wants it. She lied when she said she didn't call it the gold standard in one of the debates. She totally lied. She did call it the gold standard. And they actually fact checked and they said I was right.\n",
      "\n",
      "\n",
      "Abs_diff: 0.24056296319196724. \n",
      "Quote: We’ve got to go after the long-term health care drivers. We've got to get costs down, increase value, emphasize wellness. I have a plan for doing that, and I think that we will be able to get entitlement spending under control but with more resources and smart decisions.\n",
      "\n",
      "Well I would like to say to everyone watching tonight that I'm reaching out to all Americans, Democrats, Republicans and independents, because we need everybody to help make our country what it should be, to grow the economy, to make it fairer, to make it work for everyone. We need your talents, your skills, your commitment, your energy, your ambition. You know, I've been privileged to see the presidency up close, and I know the awesome responsibility of protecting our country and the incredible opportunity of working to try to make life better for all of you. I have made the cause of children and families really my life's work. That's what my mission will be in the presidency. I will stand up for families against powerful interests, against corporations. I will do everything that I can to make sure that you have good jobs with rising incomes, that your kids have good educations from preschool through college. I hope you will give me a chance to serve as your president.\n",
      "\n",
      "\n",
      "Abs_diff: 0.2258733814618683. \n",
      "Quote: We will not have open borders. That is a rank mischaracterization. We will have secure borders. But we will also have reform. This used to be a bipartisan issue. Ronald Reagan was the last president to sign\n",
      "\n",
      "To sign immigration reform and George W. Bush supported it as well.\n",
      "\n",
      "If you went on to read the rest of the sentence, I was talking about energy. We trade more energy with our neighbors than we trade with the rest of the world combined. And I do want us to have an electric grid, an energy system that crosses borders. I think that would be a great benefit to us. But you are very clearly quoting from WikiLeaks. What is really important about WikiLeaks is that the Russian government has engaged in espionage against Americans. They have hacked American websites, American accounts of private people, of institutions. Then they have given that information to WikiLeaks for the purpose of putting it on the internet. This has come from the highest levels of the Russian government. Clearly from Putin himself in an effort, as 17 of our intelligence agencies have confirmed, to influence our election. So I actually think the most important question of this evening, Chris, is finally, will Donald Trump admit and condemn that the Russians are doing this, and make it clear that he will not have the help of Putin in this election. That he rejects Russian espionage against Americans, which he actually encouraged in the past. Those are the questions we need answered. We've never had anything like this happen in any of our elections before.\n",
      "\n",
      "\n"
     ]
    }
   ],
   "source": [
    "#print(result[7])\n",
    "#print(correct_classification[7])\n",
    "K=7\n",
    "normalized_quotes = list()\n",
    "for speaker in [\"trump\", \"clinton\"]:\n",
    "    #print(\"\\n{} quotes that the model got correct:\".format(speaker), end='\\n\\n')\n",
    "    for quote in correct_classification[K][speaker]:\n",
    "        denom = (len(quote[1])-K)\n",
    "        normalized_log_prob_c = quote[2]/dem\n",
    "        normalized_log_prob_t = quote[3]/dem\n",
    "        abs_diff = abs(normalized_log_prob_c-normalized_log_prob_t)\n",
    "        normalized_quotes.append([abs_diff,quote[1]])\n",
    "        #print(\"- {}\".format(quote[1]))\n",
    "        \n",
    "top_normalized_quotes = sorted(normalized_quotes, reverse=True)\n",
    "for quote in top_normalized_quotes[0:9]:\n",
    "    #print(quote)\n",
    "    print(\"Abs_diff: {}. \\nQuote: {}\".format(quote[0],quote[1]))"
   ]
  },
  {
   "cell_type": "markdown",
   "id": "aa2e0702",
   "metadata": {},
   "source": [
    "**Do these make sense to you?**<br> \n",
    "Yeah I guess so, the absolute difference will grab the top quotes where the model was most confident in choosing which speaker said the quote."
   ]
  },
  {
   "cell_type": "markdown",
   "id": "9c59ba45",
   "metadata": {},
   "source": [
    "# Synthesizing Text (10 Pts)"
   ]
  },
  {
   "cell_type": "code",
   "execution_count": 133,
   "id": "69a64afd",
   "metadata": {},
   "outputs": [
    {
     "name": "stdout",
     "output_type": "stream",
     "text": [
      "top dogs! In this semester ’12 of @adidas  and the Week!After styles. (Free shipping is Thursday, to audition and Twitter from @Ursinuscollection to #Ursinus app, Mobile bluelight when Voices of the \"\n"
     ]
    }
   ],
   "source": [
    "model = MarkovModel(5)\n",
    "model.load_file_lines(\"text/ursinustweets.txt\")\n",
    "print(model.synthesize_text(200))"
   ]
  },
  {
   "cell_type": "code",
   "execution_count": 135,
   "id": "252775de",
   "metadata": {},
   "outputs": [
    {
     "name": "stdout",
     "output_type": "stream",
     "text": [
      "-  in College and \"Leave No Trace.\"Next up: A career #ursinus, but the TOP winner! Go Bear 🐻Proud “pa\n",
      "- LAMOactive program. #PAproud teacher moment. Joan & Will Abele Schools; @BarackObama's list of favo\n",
      "- ek. Join us January 6th annual #Giving2UCday was her 9.850 beam routine, the Week!After string care\n",
      "- f Americana student-management to the old town road, the @UNESCO Slavery year more and the event of\n",
      "- o supportunities.Every years. This yearlong tradition #Ursinus art program. #PAproud.Scenes from @d\n",
      "- e to.\"\"A great way to all of the largest gift was on Handshake to finding a price on whose students\n",
      "- rhood in between @LilNasX and Asst. Coaches or common Institution of “9 to the program accounty @Mo\n",
      "- uscollections from our production Center and the event, honored Codi Yhap ’20.#Ursinus Inclusivity,\n",
      "- ick J. Kurtas, class of a 1-credible for our filter '86, Zeb English Professor and how at the stude\n",
      "- 're thrilled for much smoother sailing.I had a letter for holding to closer to 6th annual fund on #\n",
      "- inding father Lobban-Viravong, v.p. for @Ursinus! Visit our finals week of July 27-31! Click on thi\n",
      "- nty @Montgomery_Bar Associal issues productive ideas an instructions from @Ursinus English Professo\n",
      "- #UCwonderland '09 and instruction for special media on the boroughout out our productive ideas anno\n",
      "- ss. 3 of meet employers! Catch us at Heim Center and well-being a LOGO CONTEST! All are presenting \n",
      "- lum and Nikki Thren '09.CONGRATULATIONS to @BrownUniversity, where she grades. MLK essay contributi\n",
      "- eir family members participants in our spots available if you to #UrsinusMLAX team win bronze!It’s \n",
      "- in your history. All are spending about King about nearly 40 show at home to creation of puttingly,\n",
      "- nPark and their interior wall of the fund on campus to be a Q&A w/ our filter '86, Zeb Engle father\n",
      "- s Voices staff, faculty and offering. He received as an @ucathletics Bear 🐻Proud teaches and \"Leave\n",
      "- gagement to everyone comes to #Ursinus today's #MLKWeek event athletic Recreation for Black History\n"
     ]
    }
   ],
   "source": [
    "for i in range(20):\n",
    "    print(\"- {}\".format(model.synthesize_text(99)))"
   ]
  }
 ],
 "metadata": {
  "kernelspec": {
   "display_name": "Python 3 (ipykernel)",
   "language": "python",
   "name": "python3"
  },
  "language_info": {
   "codemirror_mode": {
    "name": "ipython",
    "version": 3
   },
   "file_extension": ".py",
   "mimetype": "text/x-python",
   "name": "python",
   "nbconvert_exporter": "python",
   "pygments_lexer": "ipython3",
   "version": "3.10.4"
  }
 },
 "nbformat": 4,
 "nbformat_minor": 5
}
